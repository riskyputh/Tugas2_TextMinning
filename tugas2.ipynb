{
  "nbformat": 4,
  "nbformat_minor": 0,
  "metadata": {
    "colab": {
      "provenance": [],
      "collapsed_sections": []
    },
    "kernelspec": {
      "name": "python3",
      "display_name": "Python 3"
    },
    "language_info": {
      "name": "python"
    }
  },
  "cells": [
    {
      "cell_type": "markdown",
      "source": [
        "**1. SCRAPPING**"
      ],
      "metadata": {
        "id": "YxbHxOEW8Oei"
      }
    },
    {
      "cell_type": "markdown",
      "source": [
        "**Langkah 1**"
      ],
      "metadata": {
        "id": "_Fcsowqr6ycx"
      }
    },
    {
      "cell_type": "code",
      "execution_count": 2,
      "metadata": {
        "colab": {
          "base_uri": "https://localhost:8080/"
        },
        "id": "7JWxT--96alf",
        "outputId": "4dc35f16-7cf6-442c-f7e6-24be5538013b"
      },
      "outputs": [
        {
          "output_type": "stream",
          "name": "stdout",
          "text": [
            "Looking in indexes: https://pypi.org/simple, https://us-python.pkg.dev/colab-wheels/public/simple/\n",
            "Collecting snscrape\n",
            "  Downloading snscrape-0.3.4-py3-none-any.whl (35 kB)\n",
            "Requirement already satisfied: requests[socks] in /usr/local/lib/python3.7/dist-packages (from snscrape) (2.23.0)\n",
            "Requirement already satisfied: lxml in /usr/local/lib/python3.7/dist-packages (from snscrape) (4.9.1)\n",
            "Requirement already satisfied: beautifulsoup4 in /usr/local/lib/python3.7/dist-packages (from snscrape) (4.6.3)\n",
            "Requirement already satisfied: idna<3,>=2.5 in /usr/local/lib/python3.7/dist-packages (from requests[socks]->snscrape) (2.10)\n",
            "Requirement already satisfied: certifi>=2017.4.17 in /usr/local/lib/python3.7/dist-packages (from requests[socks]->snscrape) (2022.9.24)\n",
            "Requirement already satisfied: urllib3!=1.25.0,!=1.25.1,<1.26,>=1.21.1 in /usr/local/lib/python3.7/dist-packages (from requests[socks]->snscrape) (1.24.3)\n",
            "Requirement already satisfied: chardet<4,>=3.0.2 in /usr/local/lib/python3.7/dist-packages (from requests[socks]->snscrape) (3.0.4)\n",
            "Requirement already satisfied: PySocks!=1.5.7,>=1.5.6 in /usr/local/lib/python3.7/dist-packages (from requests[socks]->snscrape) (1.7.1)\n",
            "Installing collected packages: snscrape\n",
            "Successfully installed snscrape-0.3.4\n"
          ]
        }
      ],
      "source": [
        "!pip3 install snscrape"
      ]
    },
    {
      "cell_type": "markdown",
      "source": [
        "**Langkah 2**"
      ],
      "metadata": {
        "id": "VvFRd4RH6x5r"
      }
    },
    {
      "cell_type": "code",
      "source": [
        "!pip install langdetect"
      ],
      "metadata": {
        "colab": {
          "base_uri": "https://localhost:8080/"
        },
        "id": "mBXkNUyY7ISX",
        "outputId": "f859e9b8-6fbd-449e-e778-fd7d7fc77ab2"
      },
      "execution_count": 3,
      "outputs": [
        {
          "output_type": "stream",
          "name": "stdout",
          "text": [
            "Looking in indexes: https://pypi.org/simple, https://us-python.pkg.dev/colab-wheels/public/simple/\n",
            "Collecting langdetect\n",
            "  Downloading langdetect-1.0.9.tar.gz (981 kB)\n",
            "\u001b[K     |████████████████████████████████| 981 kB 5.2 MB/s \n",
            "\u001b[?25hRequirement already satisfied: six in /usr/local/lib/python3.7/dist-packages (from langdetect) (1.15.0)\n",
            "Building wheels for collected packages: langdetect\n",
            "  Building wheel for langdetect (setup.py) ... \u001b[?25l\u001b[?25hdone\n",
            "  Created wheel for langdetect: filename=langdetect-1.0.9-py3-none-any.whl size=993242 sha256=731c78741f26ad06297239f5d1707f38d8764b010a7747d0ff1c35b2a1329142\n",
            "  Stored in directory: /root/.cache/pip/wheels/c5/96/8a/f90c59ed25d75e50a8c10a1b1c2d4c402e4dacfa87f3aff36a\n",
            "Successfully built langdetect\n",
            "Installing collected packages: langdetect\n",
            "Successfully installed langdetect-1.0.9\n"
          ]
        }
      ]
    },
    {
      "cell_type": "markdown",
      "source": [
        "**Langkah 3**"
      ],
      "metadata": {
        "id": "EuChRhg_7M_a"
      }
    },
    {
      "cell_type": "code",
      "source": [
        "import snscrape.modules.twitter as sntwitter\n",
        "import json\n",
        "from langdetect import detect"
      ],
      "metadata": {
        "id": "WaPO4L477LoJ"
      },
      "execution_count": 4,
      "outputs": []
    },
    {
      "cell_type": "markdown",
      "source": [
        "**Langkah 4**"
      ],
      "metadata": {
        "id": "5eqpjQV_7SHb"
      }
    },
    {
      "cell_type": "code",
      "source": [
        "keywords=['korupsi']\n",
        "start=\"2022–9–10\"\n",
        "end =\"2022–10–17\"\n",
        "max_num=200\n",
        "fname='tweet.json' \n",
        "languages=['id']"
      ],
      "metadata": {
        "id": "xuiMf3y07UEr"
      },
      "execution_count": 5,
      "outputs": []
    },
    {
      "cell_type": "markdown",
      "source": [
        "**Langkah 5**"
      ],
      "metadata": {
        "id": "BehNmOYJ8Lbe"
      }
    },
    {
      "cell_type": "code",
      "source": [
        "import pandas as pd\n",
        "datatweet=[]"
      ],
      "metadata": {
        "id": "obLy3hYb9a3g"
      },
      "execution_count": 6,
      "outputs": []
    },
    {
      "cell_type": "markdown",
      "source": [
        "**Langkah 6**"
      ],
      "metadata": {
        "id": "gRGIO3l59cUI"
      }
    },
    {
      "cell_type": "code",
      "source": [
        "documents_twitter = []\n",
        "\n",
        "for keyword in keywords:\n",
        "   \n",
        "    for i, tweet in enumerate (sntwitter.TwitterSearchScraper(f'{keyword} ').get_items()):\n",
        "        \n",
        "        try:\n",
        "            lan=detect(tweet.content)\n",
        "        except:\n",
        "            lan='error'\n",
        "        if i == max_num:\n",
        "            break\n",
        "        if lan in languages:\n",
        "            data = {'id': tweet.id, 'username':tweet.username, 'date': tweet.date, 'text': tweet.content,'url':tweet.url}\n",
        "            \n",
        "            documents_twitter.append(data['text'])\n",
        "            \n",
        "            with open(fname, 'a+', encoding='utf-8') as f:\n",
        "                line = json.dumps(data, ensure_ascii=False,default=str)\n",
        "                print(line)\n",
        "                f.write(line)\n",
        "                f.write('\\n')"
      ],
      "metadata": {
        "colab": {
          "base_uri": "https://localhost:8080/"
        },
        "id": "nsoCx6xh8NSh",
        "outputId": "3b45dab0-3fcf-41a7-8c83-8f60a1270923"
      },
      "execution_count": 7,
      "outputs": [
        {
          "output_type": "stream",
          "name": "stdout",
          "text": [
            "{\"id\": 1581946745910489088, \"username\": \"RadarKorupsi\", \"date\": \"2022-10-17 09:54:30+00:00\", \"text\": \"@Dpram_Back @kudu_piye_neh Lebih hijau lah hahah😅\", \"url\": \"https://twitter.com/RadarKorupsi/status/1581946745910489088\"}\n",
            "{\"id\": 1581946584375271424, \"username\": \"Arief_2792\", \"date\": \"2022-10-17 09:53:51+00:00\", \"text\": \"@SantorinisSun Setara sama Foke nih orang... Cuma dulu pilgub 2012 nggak terlalu pake sentimen agama. Antara ketelan kinerjanya Foke digoreng, atau dulu partai yg nyalonin sendiri gubernur di putaran 1 belum ketahuan korupsi sapi\", \"url\": \"https://twitter.com/Arief_2792/status/1581946584375271424\"}\n",
            "{\"id\": 1581946487658774529, \"username\": \"RadarKorupsi\", \"date\": \"2022-10-17 09:53:28+00:00\", \"text\": \"@alisyarief Kita tunggu setelah TSK dan berkas perkaranya diserahkan ke JPU. Ditahan gak di Kejaksaan ?\", \"url\": \"https://twitter.com/RadarKorupsi/status/1581946487658774529\"}\n",
            "{\"id\": 1581946343173812225, \"username\": \"NenkMonica\", \"date\": \"2022-10-17 09:52:54+00:00\", \"text\": \"@OposisiCerdas Ingat ya yg disuruh Prof ini Belajar Hukum lagi bukan menyuruh Belajar Korupsi 😀\", \"url\": \"https://twitter.com/NenkMonica/status/1581946343173812225\"}\n",
            "{\"id\": 1581946207588429825, \"username\": \"ZoelHayat\", \"date\": \"2022-10-17 09:52:21+00:00\", \"text\": \"FAKTA ATAU HOAX...?\\nJadi Pejabat itu Enak.\\nGaji dan Tunjangan Besar,\\nBisa nambah dari Bancakan,\\nKalau kurang bisa korupsi,\\nPerlindungan dan Fasilitas Lengkap,\\nBisa Kebal Hukum,\\nKalau dipenjara bisa nego. https://t.co/q5gh6EhkK9\", \"url\": \"https://twitter.com/ZoelHayat/status/1581946207588429825\"}\n",
            "{\"id\": 1581946199476621314, \"username\": \"Kpu_Beltim\", \"date\": \"2022-10-17 09:52:19+00:00\", \"text\": \"Senin, 17 Oktober 2022\\n\\nKPU Belitung Timur melaksanakan penandatangan fakta integritas dilingkungan KPU Kabupaten Belitung Timur kegiatan ini adalah program kegiatan pencanangan zona integritas menuju wilayah bebas dari korupsi. https://t.co/PAscSwL6Uq\", \"url\": \"https://twitter.com/Kpu_Beltim/status/1581946199476621314\"}\n",
            "{\"id\": 1581945775281836033, \"username\": \"SteelTKing98\", \"date\": \"2022-10-17 09:50:38+00:00\", \"text\": \"@Injang_Nation Itula bang, susah &amp; teruk, bukan menteri je korup, level pimpinan rakyat pun korupsi berakar umbi. Baru sembang isu ni dengan engineer Majlis Pebandaran, peruntukan banyak habis ke kroni2😢\", \"url\": \"https://twitter.com/SteelTKing98/status/1581945775281836033\"}\n",
            "{\"id\": 1581945605068189697, \"username\": \"MohamadAkib29\", \"date\": \"2022-10-17 09:49:58+00:00\", \"text\": \"@jokowi Percuma pak disumpah,buktinya pejabat bapak yg pada disumpah kenyataanya pada korupsi juga.mereka tidak takut sumpah pak,walaupun Qur'an dan Injil tujuh lapis dikepalanya.\", \"url\": \"https://twitter.com/MohamadAkib29/status/1581945605068189697\"}\n",
            "{\"id\": 1581945568880103425, \"username\": \"cahthableug\", \"date\": \"2022-10-17 09:49:49+00:00\", \"text\": \"@VIVAcoid Betul pak tuntaskan korupsi bansos\", \"url\": \"https://twitter.com/cahthableug/status/1581945568880103425\"}\n",
            "{\"id\": 1581945428651560961, \"username\": \"RadarKorupsi\", \"date\": \"2022-10-17 09:49:15+00:00\", \"text\": \"@Dpram_Back @kudu_piye_neh Norma lah ahaha\", \"url\": \"https://twitter.com/RadarKorupsi/status/1581945428651560961\"}\n",
            "{\"id\": 1581945352797634560, \"username\": \"NyataBerita\", \"date\": \"2022-10-17 09:48:57+00:00\", \"text\": \"Jangan Pilih Ketua DPR Tersangkut Korupsi. Berikut ini Setya Novanto Korupsi Baca selengkapnya. https://t.co/sZ20eGH9m5\", \"url\": \"https://twitter.com/NyataBerita/status/1581945352797634560\"}\n",
            "{\"id\": 1581945276985925632, \"username\": \"sabar_setiabudi\", \"date\": \"2022-10-17 09:48:39+00:00\", \"text\": \"LAGU  , \\n\\nPAK HAJI GANJAR PRANOWO. SH. MIP\\n\\nORANG PINTAR ITU PASTI PILIH  PAK GANJAR sesuai arahan GOOGLE\\n\\nDi JAMIN ANTI  KILAFAH  ANTI KORUPSI dan PRESTASI nya 👍👍👍\\n\\nMaaf...Kalau Yang lain sih ENTAH lah👎\\nDan gak ada jaminan\\n\\nhttps://t.co/H0vdzfzOZK https://t.co/OzbmqVjXPI\", \"url\": \"https://twitter.com/sabar_setiabudi/status/1581945276985925632\"}\n",
            "{\"id\": 1581945235852009474, \"username\": \"RadarKorupsi\", \"date\": \"2022-10-17 09:48:30+00:00\", \"text\": \"@vikzumi @jokowi Ahahah😅\\nPaling tidak komisaris lah\", \"url\": \"https://twitter.com/RadarKorupsi/status/1581945235852009474\"}\n",
            "{\"id\": 1581945099969499137, \"username\": \"auliyah4450\", \"date\": \"2022-10-17 09:47:57+00:00\", \"text\": \"Salah satu langkah mundur, sudah pakai aplikasi JAKI, kerja kerja korupsi https://t.co/Vph1EMRnSW\", \"url\": \"https://twitter.com/auliyah4450/status/1581945099969499137\"}\n",
            "{\"id\": 1581944848059232256, \"username\": \"RadarKorupsi\", \"date\": \"2022-10-17 09:46:57+00:00\", \"text\": \"@Dpram_Back @kudu_piye_neh Gawat, Bro. Buaya darat gak di TL gak duta bergentayangan. Hahaha\", \"url\": \"https://twitter.com/RadarKorupsi/status/1581944848059232256\"}\n",
            "{\"id\": 1581944752936603649, \"username\": \"kadal_handsome\", \"date\": \"2022-10-17 09:46:34+00:00\", \"text\": \"Yuk kita viralkan biar treding !!\\nUsut dugaan korupsi formula E.\\nLaik &amp; ritwit.\\nSemongko 👇\\n#DukungKPKProsesAnies https://t.co/jWlPnClAn8\", \"url\": \"https://twitter.com/kadal_handsome/status/1581944752936603649\"}\n",
            "{\"id\": 1581944704219828224, \"username\": \"mastotoping\", \"date\": \"2022-10-17 09:46:23+00:00\", \"text\": \"@triliuner007 @kurawa Suruh @KPK_RI jg urus kasus dugaan korupsi Ahok Jokowi, mulai dr pengadaan bis, tanah sumber waras, tanah cengkareng. Mau adil? Ya do it. Jgn lo sm genk2 lo gede bacot soal Pak Anies. Aplgi soal anak2 Jokowi tuh, ngk berani periksa? Knp? Takut? Paham ngk ndrun?\", \"url\": \"https://twitter.com/mastotoping/status/1581944704219828224\"}\n",
            "{\"id\": 1581944003095711745, \"username\": \"dANUnew\", \"date\": \"2022-10-17 09:43:36+00:00\", \"text\": \"@Fajarsaprian @RenjerPutihh @Nad_mp Setan mane same koruptor yang korupsi dan menyesengsarakan rakyat ?\", \"url\": \"https://twitter.com/dANUnew/status/1581944003095711745\"}\n",
            "{\"id\": 1581943925660848129, \"username\": \"donyardi13\", \"date\": \"2022-10-17 09:43:17+00:00\", \"text\": \"@kr1t1kp3d45_pro Aduh semua sudah ternoda suap ternyata ,miris sekali ,pelindung ,pembantu , pengayom masyarakat hancur, selama bangsa Indonesia merdeka inilah paling hancur sehancurnya pejabat2 korupsi ,suap ,mafia, begal, adu domba, penghina ulama, tangkap pengkritik melebihi jaman sebelumnya.\", \"url\": \"https://twitter.com/donyardi13/status/1581943925660848129\"}\n",
            "{\"id\": 1581943875802783744, \"username\": \"bacautas\", \"date\": \"2022-10-17 09:43:05+00:00\", \"text\": \"Haloo @laughing__lions 😃👋 Selamat membaca!\\n\\\"Periksa Presiden @jokowi Terkait Kasus Korupsi Import Garam.\\n\\nBu @susipudjiastuti dipanggil kejaksaan justru karena kengototannya menolak kebijakan penambahan impor garam yang dipak...\\\" https://t.co/xQkza3Mfcp\", \"url\": \"https://twitter.com/bacautas/status/1581943875802783744\"}\n",
            "{\"id\": 1581943615131385857, \"username\": \"taekook_975\", \"date\": \"2022-10-17 09:42:03+00:00\", \"text\": \"@bucindanangst Iih korupsi umur mami mah\", \"url\": \"https://twitter.com/taekook_975/status/1581943615131385857\"}\n",
            "{\"id\": 1581943526438318080, \"username\": \"mkusumawijaya\", \"date\": \"2022-10-17 09:41:42+00:00\", \"text\": \"@abdigama @jokowi Lih masih 2 tahun, kita harus tetap mendesak kalau bukan berharap.\", \"url\": \"https://twitter.com/mkusumawijaya/status/1581943526438318080\"}\n",
            "{\"id\": 1581943206803288064, \"username\": \"pinhong13\", \"date\": \"2022-10-17 09:40:26+00:00\", \"text\": \"@madrid_jkt58 @ynkfz @Miduk17 kelebihan byar itu korupsi gaya baru drunn2 duit nitip ke bumd, msa byk tgupp dan staf keuangan bisa klbhan byr segitu bsr ap gk lakukan pembukuan mikir drun https://t.co/Bn2tJP0PVg\", \"url\": \"https://twitter.com/pinhong13/status/1581943206803288064\"}\n",
            "{\"id\": 1581942960400179200, \"username\": \"Wahydesama\", \"date\": \"2022-10-17 09:39:27+00:00\", \"text\": \"@Miduk17 Tapi kok kasus korupsi byk ya di era skrg? Blm lg diskon masa tahanan, enak betul ya?\", \"url\": \"https://twitter.com/Wahydesama/status/1581942960400179200\"}\n",
            "{\"id\": 1581942766116143104, \"username\": \"AimanJudakusum1\", \"date\": \"2022-10-17 09:38:41+00:00\", \"text\": \"@Syarman59 @kumparan @RasamalaArt &amp; @febridiansyah selama ini adalah mantan pegawai @KPK_RI sekaligus pejuang anti korupsi yg byk mendapat simpati publik\\nmk langkah pintar tim kuasa FS utk menyertakan mrk sbg penguat image \\\"bisa dipercaya\\\"\\n\\ngratis?\\nyg jelas nilai kepercayaan itu mahal\\n\\n@IrmaHutabarat\", \"url\": \"https://twitter.com/AimanJudakusum1/status/1581942766116143104\"}\n",
            "{\"id\": 1581942716090703875, \"username\": \"barcastuff_idn\", \"date\": \"2022-10-17 09:38:29+00:00\", \"text\": \"@lovpedrrrr Iya penipuan dan korupsi.\", \"url\": \"https://twitter.com/barcastuff_idn/status/1581942716090703875\"}\n",
            "{\"id\": 1581942676139610113, \"username\": \"m_sael\", \"date\": \"2022-10-17 09:38:19+00:00\", \"text\": \"Setara sama Foke nih orang... Cuma dulu pilgub 2012 nggak terlalu pake sentimen agama. Antara ketelan kinerjanya Foke digoreng, atau dulu partai yg nyalonin sendiri gubernur di putaran 1 belum ketahuan korupsi sapi https://t.co/7iGdTY2Qfd\", \"url\": \"https://twitter.com/m_sael/status/1581942676139610113\"}\n",
            "{\"id\": 1581942669541941248, \"username\": \"_ceciliauw\", \"date\": \"2022-10-17 09:38:18+00:00\", \"text\": \"@jaksapedia @KejaksaanRI Ya harapan saya setelah diperiksanya saksi akan membuahkan para pelaku tindakan korupsi ini @KejaksaanRI\", \"url\": \"https://twitter.com/_ceciliauw/status/1581942669541941248\"}\n",
            "{\"id\": 1581941047223287808, \"username\": \"triliuner007\", \"date\": \"2022-10-17 09:31:51+00:00\", \"text\": \"@mastotoping @kurawa Drun  papua itu 8x wtp....sekarang gubernurnya kena ksus korupsi....jakarta 5x....yng ini tunggu kpk ya....bentar aja....sabarrr.......nasibnya akan sama.....sabar ya drun drun drun\", \"url\": \"https://twitter.com/triliuner007/status/1581941047223287808\"}\n",
            "{\"id\": 1581940938397470720, \"username\": \"RadarKorupsi\", \"date\": \"2022-10-17 09:31:25+00:00\", \"text\": \"@papa_loren @KhoiruLArkan19 Tapi kalo sidang ditunda terus karna penggugat gak bisa hadir, bisa batal demi hukum, pap.\", \"url\": \"https://twitter.com/RadarKorupsi/status/1581940938397470720\"}\n",
            "{\"id\": 1581940520812568576, \"username\": \"Buyung47805987\", \"date\": \"2022-10-17 09:29:45+00:00\", \"text\": \"Anies Baswedan nyapres bisa hancur bangsa ini, dasar pembohong, kerjanya korupsi\\n\\nGorontalo \\n#AniesNasdemOut #TenggelamkanNasdem #TenggelamkanAniesNasdem\\n#TenggelamkanPartaiNasdem\\n#GoodByeNasdemAnies\\n#AniesGabenerPembohong\\n#KagagalanAniesituNyata https://t.co/EESg5Jci4C\", \"url\": \"https://twitter.com/Buyung47805987/status/1581940520812568576\"}\n",
            "{\"id\": 1581940503376896000, \"username\": \"CandraI02540151\", \"date\": \"2022-10-17 09:29:41+00:00\", \"text\": \"@kurawa Warga sangat antusias dan penuh harapan menyambut Pak Heru sebagai Gubernur Baru, setelah 5 tahun mereka dikecewakan Anies Baswedan dengan janji janji palsu, banjir, korupsi, pungli, kesulitan air bersih, ku muh, kemiskinan ekstrim, mudah2an penderitaan ini segera berakhir\", \"url\": \"https://twitter.com/CandraI02540151/status/1581940503376896000\"}\n",
            "{\"id\": 1581940228469637120, \"username\": \"syauqi_rahmatt\", \"date\": \"2022-10-17 09:28:36+00:00\", \"text\": \"@jaksapedia @KejaksaanRI Dgn diperiksanya para saksi yg mengetahui terjadinya korupsi kebijakan impor garam saya harap @KejaksaanRI mampu mengorek informasi sedetail mungkin supaya ksus ini bisa cepat terungkap\", \"url\": \"https://twitter.com/syauqi_rahmatt/status/1581940228469637120\"}\n",
            "{\"id\": 1581939718308052992, \"username\": \"atrbpntabanan\", \"date\": \"2022-10-17 09:26:34+00:00\", \"text\": \"Dukung Kantah Tabanan Menuju Wilayah Bebas dari Korupsi (WBK) dan Wilayah Birokrasi Bersih dan Melayani (WBBM)\\n#MewaliMemudahkandanWajibMelayani #ATRBPNMajudanModern\\n#ATRBPNKiniLebihBaik\\n#ATRBPNTabanan\\n#MelayaniProfesionalTerpercaya\\n#MenujuLayananBerkelasDunia https://t.co/QiRmom7LY9\", \"url\": \"https://twitter.com/atrbpntabanan/status/1581939718308052992\"}\n",
            "{\"id\": 1581939705415077888, \"username\": \"gun70674\", \"date\": \"2022-10-17 09:26:31+00:00\", \"text\": \"@ChusnulCh__ Sudah tuntaskan utk proyek \\\"anies baswedan\\\", sbg orang yg katanya cinta negara &amp; cinta NKRI..tolong suarakan masalah korupsi yg ada di partai penguasa, carut marutnya kepolisian, suara kan tentang kemanusian..itu ada banjir dimana mana. Itupun kalo hati anda tulus &amp; berani...\", \"url\": \"https://twitter.com/gun70674/status/1581939705415077888\"}\n",
            "{\"id\": 1581939328468496389, \"username\": \"RadarKorupsi\", \"date\": \"2022-10-17 09:25:01+00:00\", \"text\": \"@ZulianusSiahaan Tul\", \"url\": \"https://twitter.com/RadarKorupsi/status/1581939328468496389\"}\n",
            "{\"id\": 1581939253629460482, \"username\": \"RadarKorupsi\", \"date\": \"2022-10-17 09:24:43+00:00\", \"text\": \"@Bayouiraone1 Pelampiasan dendam kekuasaan dan…\", \"url\": \"https://twitter.com/RadarKorupsi/status/1581939253629460482\"}\n",
            "{\"id\": 1581939179860086784, \"username\": \"SiYeuu\", \"date\": \"2022-10-17 09:24:26+00:00\", \"text\": \"@jaksapedia @KejaksaanRI Jangan pernah lengah pak @ST_Burhanuddin dalam menangani kasus korupsi, hadirkan saksi untuk melakukan investigasi, agar bukti bisa sesegera mungkin terkumpul dengan baik @KejaksaanRI\", \"url\": \"https://twitter.com/SiYeuu/status/1581939179860086784\"}\n",
            "{\"id\": 1581939043792605185, \"username\": \"RadarKorupsi\", \"date\": \"2022-10-17 09:23:53+00:00\", \"text\": \"@papa_loren @KhoiruLArkan19 Pasti ditunda\", \"url\": \"https://twitter.com/RadarKorupsi/status/1581939043792605185\"}\n",
            "{\"id\": 1581938842008924161, \"username\": \"sheivinidya\", \"date\": \"2022-10-17 09:23:05+00:00\", \"text\": \"Oknum polisi mencoret dinding Mapolres Luwu, Sulsel dengan tulisan 'Sarang Korupsi.' Oknum tersebut disebut alami gangguan jiwa.\", \"url\": \"https://twitter.com/sheivinidya/status/1581938842008924161\"}\n",
            "{\"id\": 1581938608906567683, \"username\": \"bushido_aikido\", \"date\": \"2022-10-17 09:22:10+00:00\", \"text\": \"@Tita83079013 Ngehex!\\nDah molai turun nih, fuluz dr bohir 3C, yg ngebet pengen orgasme korupsi &amp; radikalisme!\", \"url\": \"https://twitter.com/bushido_aikido/status/1581938608906567683\"}\n",
            "{\"id\": 1581938410641842176, \"username\": \"temponewsroom\", \"date\": \"2022-10-17 09:21:22+00:00\", \"text\": \"Tangkap tangan korupsi permainan kasus di Mahkamah Agung yang melibatkan hakim agung Sudrajad Dimyati membuat Komisi Yudisial turun tangan. \\n#MajalahTempo  https://t.co/0UVLD4gTE8\", \"url\": \"https://twitter.com/temponewsroom/status/1581938410641842176\"}\n",
            "{\"id\": 1581938315556978689, \"username\": \"radaraktual\", \"date\": \"2022-10-17 09:21:00+00:00\", \"text\": \"“Korupsi adalah perbuatan zalim dan memang harus dibunuh. Bunuh apanya? Karakternya dan berdasarkan koridor hukum. Jadi itulah sikap PKP bagaimana kita menghadapi korupsi ini,” \\n\\nKetua Umum PKP, Yussuf Solichien\\n\\nhttps://t.co/P6lVQjjtog https://t.co/4JRSYSbvgf\", \"url\": \"https://twitter.com/radaraktual/status/1581938315556978689\"}\n",
            "{\"id\": 1581938159880835072, \"username\": \"Bulls23190387\", \"date\": \"2022-10-17 09:20:22+00:00\", \"text\": \"@josuagalungung bukanx ud marak korupsi dmna2 noh gub sblum anis beli tanah milik pemda sendiri gimana om???\", \"url\": \"https://twitter.com/Bulls23190387/status/1581938159880835072\"}\n",
            "{\"id\": 1581938031476772864, \"username\": \"Sgrdamai\", \"date\": \"2022-10-17 09:19:52+00:00\", \"text\": \"@p1_eka Seharusnya Pendukungnya Demo KPK Agar Anis Secepatnya Dilidik Shg Mendapat Kepastian Hukum Atas Dugaan Korupsi Di DKI JKT, Sebab Jika Nanti Sdh Resmi Daftar Jdi Capres Terus Diciduk KPK, Kan Tidak Baik Dimata Masyarakat Ditengah Gejolak Politik ini\", \"url\": \"https://twitter.com/Sgrdamai/status/1581938031476772864\"}\n",
            "{\"id\": 1581937826815365120, \"username\": \"robbycm1\", \"date\": \"2022-10-17 09:19:03+00:00\", \"text\": \"@sisthaaaaa di jabar selain korupsi, punglo nya kenceng mulai dari level ampas kaya ormas sampai ke pejabatnya. Makanya alokasi nya seret dan kalo dipake juga hasilnya jelek\", \"url\": \"https://twitter.com/robbycm1/status/1581937826815365120\"}\n",
            "{\"id\": 1581936980773859328, \"username\": \"adindanf2231\", \"date\": \"2022-10-17 09:15:41+00:00\", \"text\": \"@merdekadotcom awas loh tbtb di korupsi\", \"url\": \"https://twitter.com/adindanf2231/status/1581936980773859328\"}\n",
            "{\"id\": 1581936813853200384, \"username\": \"RadarKorupsi\", \"date\": \"2022-10-17 09:15:02+00:00\", \"text\": \"@KhoiruLArkan19 @papa_loren Setiap saksi kalo gak salah akan disumpah.\", \"url\": \"https://twitter.com/RadarKorupsi/status/1581936813853200384\"}\n",
            "{\"id\": 1581936667610742785, \"username\": \"zuperwomine\", \"date\": \"2022-10-17 09:14:27+00:00\", \"text\": \"@bangsatet korupsi waktu tuu\", \"url\": \"https://twitter.com/zuperwomine/status/1581936667610742785\"}\n",
            "{\"id\": 1581936528179138566, \"username\": \"Bodoamat1794\", \"date\": \"2022-10-17 09:13:53+00:00\", \"text\": \"Selama empat bulan dapat siksaan doang 😂\\nYang terima uang orang lain dari project. Gilaaa gilaaa korupsi\", \"url\": \"https://twitter.com/Bodoamat1794/status/1581936528179138566\"}\n",
            "{\"id\": 1581936450148659200, \"username\": \"lapakmebel1\", \"date\": \"2022-10-17 09:13:35+00:00\", \"text\": \"@jokowi Sumpah jabatan cuma formalitas dan Pada akhirnya Paling juga di korupsi 🤪🤪\", \"url\": \"https://twitter.com/lapakmebel1/status/1581936450148659200\"}\n",
            "{\"id\": 1581936275061633024, \"username\": \"LarniNoviana\", \"date\": \"2022-10-17 09:12:53+00:00\", \"text\": \"Anies dan Nasdem Kolaborasi Keburukan, akar bibit korupsi mulai tercium #AniesNasdemOut #TenggelamkanNasdem #TenggelamkanAniesNasdem #TenggelamkanPartaiNasdem #GoodByeNasdemAnies #AniesGabenerPembohong #KagagalanAniesituNyata Banten https://t.co/YpY75Y8LjR\", \"url\": \"https://twitter.com/LarniNoviana/status/1581936275061633024\"}\n",
            "{\"id\": 1581936262063149058, \"username\": \"RadarKorupsi\", \"date\": \"2022-10-17 09:12:50+00:00\", \"text\": \"@Dewishintasurya @papa_loren Hahaha🤣ini fakta nyata ya, tak bisa ku pungkiri\", \"url\": \"https://twitter.com/RadarKorupsi/status/1581936262063149058\"}\n",
            "{\"id\": 1581936096715616257, \"username\": \"IWAN79915332\", \"date\": \"2022-10-17 09:12:11+00:00\", \"text\": \"@M45Broo_ Lahan sendiri kok dibeli sendiri....teriak2nya Anti Korupsi.\\nPREKETEEEKK...BONG..!!!\", \"url\": \"https://twitter.com/IWAN79915332/status/1581936096715616257\"}\n",
            "{\"id\": 1581935869685948417, \"username\": \"LarniNoviana\", \"date\": \"2022-10-17 09:11:16+00:00\", \"text\": \"Lagi linglung si nasdem, orang lagi ada kasus korupsi, diangkat jadi capres. #AniesNasdemOut #TenggelamkanNasdem #TenggelamkanAniesNasdem #TenggelamkanPartaiNasdem #GoodByeNasdemAnies #AniesGabenerPembohong #KagagalanAniesituNyata Banten https://t.co/y6LQI09sCl\", \"url\": \"https://twitter.com/LarniNoviana/status/1581935869685948417\"}\n",
            "{\"id\": 1581935711309426688, \"username\": \"_itsmeshaa\", \"date\": \"2022-10-17 09:10:39+00:00\", \"text\": \"@ndagels Kenapa ya sering liat orang ditilang ngamuk2 parah udh kyk dituduh korupsi 5M 😭\\nDaripada marah teriak2 malu / ngerusak motor lah mending diem \\nKan sama aja endingnya ketilang :(\", \"url\": \"https://twitter.com/_itsmeshaa/status/1581935711309426688\"}\n",
            "{\"id\": 1581935676270182400, \"username\": \"firmanmamboue17\", \"date\": \"2022-10-17 09:10:30+00:00\", \"text\": \"@M45Broo_ Ingat pak Heru cuma PJ nanti kalo di pilih nyata oleh rakyat itu baru gubernur.ini hy mengisi kekosongan sebenarnya msih byk yg lebih. Bagus karena pak Heru ini pernah tersandung kasus korupsi\", \"url\": \"https://twitter.com/firmanmamboue17/status/1581935676270182400\"}\n",
            "{\"id\": 1581935600055160832, \"username\": \"Bravo_munte\", \"date\": \"2022-10-17 09:10:12+00:00\", \"text\": \"Bagi @KPK_RI sebenarnya bukan hal sulit untuk membongkar semua kasus korupsi di NKRI. Cuman kenapa banyak diam nya? 😀🤭\", \"url\": \"https://twitter.com/Bravo_munte/status/1581935600055160832\"}\n",
            "{\"id\": 1581935474377363462, \"username\": \"Radit_Delarocha\", \"date\": \"2022-10-17 09:09:42+00:00\", \"text\": \"Ada 3 kasus korupsi masih mangkrak diera Ahok..\\n1. RS Sumber Waras\\n2. Pembelian tanah Cengkareng\\n3. Beli lahan sendiri (kedutaan Inggris) https://t.co/NjjhCCKvx6 https://t.co/GOV38eYQ9M\", \"url\": \"https://twitter.com/Radit_Delarocha/status/1581935474377363462\"}\n",
            "{\"id\": 1581935463551537153, \"username\": \"Kochikecil\", \"date\": \"2022-10-17 09:09:40+00:00\", \"text\": \"#bandung #instagram wajib ditiru, negara paling bersih dari korupsi https://t.co/p9EBOAdrWT\", \"url\": \"https://twitter.com/Kochikecil/status/1581935463551537153\"}\n",
            "{\"id\": 1581935462721015808, \"username\": \"SavarDian\", \"date\": \"2022-10-17 09:09:39+00:00\", \"text\": \"#bandung #instagram wajib ditiru, negara paling bersih dari korupsi https://t.co/2GOBfirlnm\", \"url\": \"https://twitter.com/SavarDian/status/1581935462721015808\"}\n",
            "{\"id\": 1581935448728825858, \"username\": \"MwahyuUdin\", \"date\": \"2022-10-17 09:09:36+00:00\", \"text\": \"@BangEdiii @juki_william waktu banjir jakarta menyerang anies kamu kok gak bilang begini  brooo\\ntapi saya se7 dengan pendapat mu janganlah musibah\\nsebagai ajang politik ,cerdaslah\\nbudayakan budaya malu\\nmalu dosa malu korupsi dan malu kepada diri sendiri\", \"url\": \"https://twitter.com/MwahyuUdin/status/1581935448728825858\"}\n",
            "{\"id\": 1581935279320932353, \"username\": \"lampungpost_\", \"date\": \"2022-10-17 09:08:56+00:00\", \"text\": \"Kejati Lampung bakal menunjuk auditor independen guna menghitung kerugian negara perkara dugaan korupsi anggaran KONI Lampung tahun 2020 dengan nilai Rp29 miliar. Upaya tersebut diambil karena perkara menimbulkan kerugian negara.\\n\\n#auditor #lampungpost \\nhttps://t.co/VH3pVJkXSK\", \"url\": \"https://twitter.com/lampungpost_/status/1581935279320932353\"}\n",
            "{\"id\": 1581934528570208257, \"username\": \"pinhong13\", \"date\": \"2022-10-17 09:05:57+00:00\", \"text\": \"@madrid_jkt58 @ynkfz @Miduk17 drun2 klo ada temuan2 itu sdh gk wajarr drun, sama aja km korupsi klo uang korupsi dibalikin jd clear gitu ya drun logika nya\", \"url\": \"https://twitter.com/pinhong13/status/1581934528570208257\"}\n",
            "{\"id\": 1581934456973438977, \"username\": \"tramontosky\", \"date\": \"2022-10-17 09:05:40+00:00\", \"text\": \"Semoga orang yang korupsi uang itu pada sakit perut ga selesai selama satu minggu, AAMIIN 🙏\", \"url\": \"https://twitter.com/tramontosky/status/1581934456973438977\"}\n",
            "{\"id\": 1581934422894333952, \"username\": \"kejaribangka\", \"date\": \"2022-10-17 09:05:31+00:00\", \"text\": \"pemeriksaan saksi Dugaan Tindak Pidana Korupsi Pemberian Fasilitas Pembiayaan (Kredit) kepada nasabah PT. Bank Pembiayaan Rakyat Syariah (BPRS) Bangka Belitung kantor Pusat Operasi (KPO)/Cabang Sungailiat periode tahun 2009 sampai dengan 2011. https://t.co/S41RM3U4Dr\", \"url\": \"https://twitter.com/kejaribangka/status/1581934422894333952\"}\n",
            "{\"id\": 1581934353910616065, \"username\": \"LarniNoviana\", \"date\": \"2022-10-17 09:05:15+00:00\", \"text\": \"Korupsi tidak layak menjadi pemimpin #AniesNasdemOut #TenggelamkanNasdem #TenggelamkanAniesNasdem #TenggelamkanPartaiNasdem #GoodByeNasdemAnies #AniesGabenerPembohong #KagagalanAniesituNyata Banten https://t.co/nQes0xCqIg\", \"url\": \"https://twitter.com/LarniNoviana/status/1581934353910616065\"}\n",
            "{\"id\": 1581933921750876160, \"username\": \"skalabrak583\", \"date\": \"2022-10-17 09:03:32+00:00\", \"text\": \"iang dah didapat, trus dapat peringkat gila..gak main2 peringkat 1 di kelas korupsi bro/sist!\\nhmmm..kira2 apa rewardmya yaa?\", \"url\": \"https://twitter.com/skalabrak583/status/1581933921750876160\"}\n",
            "{\"id\": 1581933715114307584, \"username\": \"RizalBoler3\", \"date\": \"2022-10-17 09:02:43+00:00\", \"text\": \"@s_hal_a @findiarko @ubjpn @mazzini_gsp Duit korupsi ataupun duit kejahatan itu memang diambil negara tp\\nnominalnya engga sebanding, uang dihasilkan dr kejahatan dan koripsi sekarung yg disita satu kantong kresek krn semua yg terlibat megang kasus nya masing masing pengen kantongnya tebal\", \"url\": \"https://twitter.com/RizalBoler3/status/1581933715114307584\"}\n",
            "{\"id\": 1581933525694980097, \"username\": \"RadarKorupsi\", \"date\": \"2022-10-17 09:01:58+00:00\", \"text\": \"@OposisiCerdas Emang masih punya malu ?\", \"url\": \"https://twitter.com/RadarKorupsi/status/1581933525694980097\"}\n",
            "{\"id\": 1581933219951230976, \"username\": \"PetrusAji2\", \"date\": \"2022-10-17 09:00:45+00:00\", \"text\": \"Anies Baswedan pembohong, semua nol besar, kerjanya korupsi\\n\\nGorontalo berkata \\n#AniesNasdemOut #TenggelamkanNasdem #TenggelamkanAniesNasdem\\n#TenggelamkanPartaiNasdem\\n#GoodByeNasdemAnies\\n#AniesGabenerPembohong\\n#KagagalanAniesituNyata https://t.co/T7nvfgISKu\", \"url\": \"https://twitter.com/PetrusAji2/status/1581933219951230976\"}\n",
            "{\"id\": 1581933067287293953, \"username\": \"budiawandki\", \"date\": \"2022-10-17 09:00:08+00:00\", \"text\": \"@damarjati_dimas @yedi_kurniahadi @detikcom Ndk usah ngeles kesana kemari. Bocil bedakan lebih bayar sama korupsi saja gagap. \\nSundanya dimana Bambang..🤣🤣🤣🤣\", \"url\": \"https://twitter.com/budiawandki/status/1581933067287293953\"}\n",
            "{\"id\": 1581932942066331649, \"username\": \"HendraP32952551\", \"date\": \"2022-10-17 08:59:38+00:00\", \"text\": \"Jaksa Hadiri Sidang Praperadilan Kasus Korupsi SPALDT Batanghari https://t.co/81OE5y1Kqj\", \"url\": \"https://twitter.com/HendraP32952551/status/1581932942066331649\"}\n",
            "{\"id\": 1581932896855547904, \"username\": \"Tatto26141368\", \"date\": \"2022-10-17 08:59:28+00:00\", \"text\": \"@__AnakKolong Wkwkwkwkwkwk.. \\nMas bro narasinya dah mulai menjurus nih.. \\nDeteksi.. Identifikasi.. Eksekusi.. 👉 Gratifikasi.. Korupsi.. Manipulasi.. \\n\\nDan.. dah terdeteksi juga 👉 tak kan lama lagi Anis bakalan mendadak sakit nih.. \\n\\nSemoga saya salah..\", \"url\": \"https://twitter.com/Tatto26141368/status/1581932896855547904\"}\n",
            "{\"id\": 1581932723546955776, \"username\": \"RadarKorupsi\", \"date\": \"2022-10-17 08:58:46+00:00\", \"text\": \"@ginebrahache @jokowi Untuk menjawab semua tanda tanya dan keraguan masyarakat, YM berkenan datang ke PN Jaksel bawa dan perlihatkan semua ijazah asli.\", \"url\": \"https://twitter.com/RadarKorupsi/status/1581932723546955776\"}\n",
            "{\"id\": 1581932659462516736, \"username\": \"Kia40383205\", \"date\": \"2022-10-17 08:58:31+00:00\", \"text\": \"Korupsi Adalah Kejahatan Luar biasa\\n#TangkapLukasEnembe\\n#LukasEnembeTersangkaKorupsi\\n#PenjarakanLukasEnembe\\n#LukasEnembeKoruptor\\n#LukasEnembePenjahatPolitik\\n#LukasEnembePencuriUangRakyatPapua\\nMasyarakat Papua Berharap KPK Tangkap Gubernur Kruptor. https://t.co/c0SPiFk32Q\", \"url\": \"https://twitter.com/Kia40383205/status/1581932659462516736\"}\n",
            "{\"id\": 1581932591074410496, \"username\": \"Icha_ivander\", \"date\": \"2022-10-17 08:58:15+00:00\", \"text\": \"Orang seperti ini harus dibeli pelajaran, dasar hati busuk suka korupsi.  #TangkapLukasEnembe #LukasEnembeTersangkaKorupsi #PenjarakanLukasEnembe #LukasEnembeKoruptor #LukasEnembePenjahatPolitik #LukasEnembePencuriUangRakyatPapua Banten https://t.co/idbg8Yr0Dh\", \"url\": \"https://twitter.com/Icha_ivander/status/1581932591074410496\"}\n",
            "{\"id\": 1581932471133736960, \"username\": \"Mimin_Jelita\", \"date\": \"2022-10-17 08:57:46+00:00\", \"text\": \"@detikcom Aduan korupsi formula E DKI jakarta sampai dimana @KPK_RI ? https://t.co/SyH3Y6sanJ\", \"url\": \"https://twitter.com/Mimin_Jelita/status/1581932471133736960\"}\n",
            "{\"id\": 1581932232205537280, \"username\": \"pinhong13\", \"date\": \"2022-10-17 08:56:49+00:00\", \"text\": \"@madrid_jkt58 @ynkfz @Miduk17 mknya bacs drun apbd hbs hasil nihil nah kadrun kyk km banggain wtp kan goblok, papua 8 wtp jg tetap tersangka korupsi\", \"url\": \"https://twitter.com/pinhong13/status/1581932232205537280\"}\n",
            "{\"id\": 1581932149736734720, \"username\": \"pokoknya280922\", \"date\": \"2022-10-17 08:56:30+00:00\", \"text\": \"@prastow @DJPPRkemenkeu Selamat tinggal hutang lama, selamat datang gutang baru... selamat atas debt swapnya, jangan di korupsi ya\", \"url\": \"https://twitter.com/pokoknya280922/status/1581932149736734720\"}\n",
            "{\"id\": 1581931892588544000, \"username\": \"hetanewscom\", \"date\": \"2022-10-17 08:55:28+00:00\", \"text\": \"Jaksa  Segera Limpahkan 2 Berkas Dugaan Korupsi Di Simalungun ke PN Tipikor https://t.co/cTMr84bH2r\", \"url\": \"https://twitter.com/hetanewscom/status/1581931892588544000\"}\n",
            "{\"id\": 1581931823176687616, \"username\": \"Mezzoforte2609\", \"date\": \"2022-10-17 08:55:12+00:00\", \"text\": \"Kebijakan bersih2 yang dilakukan Menteri BUMN @erickthohir sangat diapresiasi dan didukung oleh masyarakat, krn sebagai pemimpin yg tegas dlm memberantas korupsi yg merugikan negara di BUMN yg dipimpinnya.\\n#BangkitBersamaET https://t.co/RU9OT4c2pY\", \"url\": \"https://twitter.com/Mezzoforte2609/status/1581931823176687616\"}\n",
            "{\"id\": 1581931777253601280, \"username\": \"Fikri_Prianton\", \"date\": \"2022-10-17 08:55:01+00:00\", \"text\": \"@ganjarpranowo 😭🙏\\nOrang yg bahagia adalah orang yg hidupnya penuh keberkahan, jauh dari maksiat dan korupsi\\n\\nJalan pulang iki piye tho pakdhe?\\n\\nhttps://t.co/yDEDkr6KeG\", \"url\": \"https://twitter.com/Fikri_Prianton/status/1581931777253601280\"}\n",
            "{\"id\": 1581931714644828160, \"username\": \"Danki_Cebong\", \"date\": \"2022-10-17 08:54:46+00:00\", \"text\": \"Bagi orang tua yg suka kasih makan anaknya dgn makaman yg gak berkah, seperti korupsi dan merekayasa uang kas atau suka menipu orang, ini hasilnya ada, dunia itu adil. https://t.co/YMmgAxViFT\", \"url\": \"https://twitter.com/Danki_Cebong/status/1581931714644828160\"}\n",
            "{\"id\": 1581931590112145409, \"username\": \"mc_prov_aceh\", \"date\": \"2022-10-17 08:54:16+00:00\", \"text\": \"BANDA ACEH – Penjabat (Pj) Gubernur Aceh Achmad Marzuki mengapresiasi kegiatan Bimbingan Teknis Dunia Usaha Anti Korupsi, yang diselenggarakan oleh Komisi Pemberantasan Korupsi (KPK) RI, di Aula Serbaguna Setda Aceh,\\nhttps://t.co/9ayyMAmprA\", \"url\": \"https://twitter.com/mc_prov_aceh/status/1581931590112145409\"}\n",
            "{\"id\": 1581931419080994816, \"username\": \"sagemode7777\", \"date\": \"2022-10-17 08:53:35+00:00\", \"text\": \"Korupsi Dana Formula E Si Anies Tolol. \\nAnis Pembohong\\n-Kalimantan Tengah-\\n\\n#AniesNasdemOut #TenggelamkanNasdem #TenggelamkanAniesNasdem\\n#TenggelamkanPartaiNasdem\\n#GoodByeNasdemAnies https://t.co/cN9n1POB3A\", \"url\": \"https://twitter.com/sagemode7777/status/1581931419080994816\"}\n",
            "{\"id\": 1581931375196016640, \"username\": \"dalem_abdhi\", \"date\": \"2022-10-17 08:53:25+00:00\", \"text\": \"Kebijakan bersih2 BUMN ala sang menteri BUMN Erick Thohir banyak mendapat dukungan dari masyarakat..rata2 mereka memuji sikap Erick Thohir sebagai pemimpin yang tegas dalam memberantas korupsi di tubuh BUMN..\\n\\n#BangkitBersamaET https://t.co/E62hv7EIS0\", \"url\": \"https://twitter.com/dalem_abdhi/status/1581931375196016640\"}\n",
            "{\"id\": 1581930896718188544, \"username\": \"pinhong13\", \"date\": \"2022-10-17 08:51:31+00:00\", \"text\": \"@madrid_jkt58 @Byu3756 @ynkfz @Miduk17 lah oknum yg berikan WTP jg korupsi drun\", \"url\": \"https://twitter.com/pinhong13/status/1581930896718188544\"}\n",
            "{\"id\": 1581930758306136068, \"username\": \"lho_koq\", \"date\": \"2022-10-17 08:50:58+00:00\", \"text\": \"@itsmed14n4 Hoax...!!\\n\\nItu gambar saat Ganjar dan 214 Kepala Daerah/Wakil dari kader PDIP tanda-tangan pernyataan tidak korupsi selama menjabat.\", \"url\": \"https://twitter.com/lho_koq/status/1581930758306136068\"}\n",
            "{\"id\": 1581930706783023105, \"username\": \"RadarKorupsi\", \"date\": \"2022-10-17 08:50:46+00:00\", \"text\": \"@A1ki4_ku5_21 @jokowi Oalah maafkeun…ku kira blom ada someone di hatimu\", \"url\": \"https://twitter.com/RadarKorupsi/status/1581930706783023105\"}\n",
            "{\"id\": 1581930687086481409, \"username\": \"Bodoamat1794\", \"date\": \"2022-10-17 08:50:41+00:00\", \"text\": \"Enak banget yah kepala gua yang di tembak screening, mereka yang dapat uang nya... \\nTerima uang juga. Jadi disini siapa yang korupsi yah?\", \"url\": \"https://twitter.com/Bodoamat1794/status/1581930687086481409\"}\n",
            "{\"id\": 1581930440218529792, \"username\": \"madrid_jkt58\", \"date\": \"2022-10-17 08:49:42+00:00\", \"text\": \"@Byu3756 @pinhong13 @ynkfz @Miduk17 tau nih bigot2 pada goblok y, g bisa bedain WTP sama korupsi.\\nkalau WTP belum tentu korupsi, kalau g dapat WTP -&gt; ada kerugian negara -&gt; udah pasti ada korupsi\", \"url\": \"https://twitter.com/madrid_jkt58/status/1581930440218529792\"}\n",
            "{\"id\": 1581930397197570050, \"username\": \"dae_hoes\", \"date\": \"2022-10-17 08:49:32+00:00\", \"text\": \"@telurexo iya...jadi ga ada yg ngepush buat pengecualian lagi di parlemen..dah beberapa bulan deh keknya tuh pejabat di periksa ama pihak anti korupsi korea\", \"url\": \"https://twitter.com/dae_hoes/status/1581930397197570050\"}\n",
            "{\"id\": 1581930230486532096, \"username\": \"madrid_jkt58\", \"date\": \"2022-10-17 08:48:52+00:00\", \"text\": \"@pinhong13 @ynkfz @Miduk17 ini lagi dipost ulang, emang dungu.\\ng bisa bedain laporan keuangan wajar dan korupsi.  \\nwkwkw.\\nlo beli tanah 648M, tanahnya ada -&gt; WTP bukan berarti lo g terima suap.\\nlah ini udah beli tanah 648M, eh tanahnya punya sendiri-&gt; g WTP udah pasti ada korupsi, dan hebatnya aman\", \"url\": \"https://twitter.com/madrid_jkt58/status/1581930230486532096\"}\n",
            "{\"id\": 1581930163566444544, \"username\": \"bostari\", \"date\": \"2022-10-17 08:48:36+00:00\", \"text\": \"@JaeKodok Komplotan Pendukung Korupsi #JKWIngkarJanji\\n#JKWIngkarJanji\", \"url\": \"https://twitter.com/bostari/status/1581930163566444544\"}\n",
            "{\"id\": 1581929974520778752, \"username\": \"BuBengSianShu\", \"date\": \"2022-10-17 08:47:51+00:00\", \"text\": \"@Udinketeng @detikcom polisi gk korupsi lah itu jabatan yg bisa korupsi org nya😀\", \"url\": \"https://twitter.com/BuBengSianShu/status/1581929974520778752\"}\n",
            "{\"id\": 1581929939615379457, \"username\": \"syifa_asifa\", \"date\": \"2022-10-17 08:47:43+00:00\", \"text\": \"Anggota Majelis Rakyat Papua (MRP) Herman Yoku meminta Komisi Pemberantasan Korupsi (KPK) untuk lebih serius menangani kasus dugaan korupsi yang menjerat Lukas Enembe. #LukasEnembeKoruptor #PapuaBersatu https://t.co/4np4p1YyNA\", \"url\": \"https://twitter.com/syifa_asifa/status/1581929939615379457\"}\n",
            "{\"id\": 1581929880828383232, \"username\": \"Ambun321\", \"date\": \"2022-10-17 08:47:29+00:00\", \"text\": \"@razi_mt @yusuf_dumdum @NasDem @jokowi Bukan Kerbau tapi Kadal Kelaparan di HADRAMAUT YANG MISKIN JADI LARI KE INDONESIA JADI PENGASONG AGAMA SOK SUCI PADAHAL MAKAN UANG HARAM HASIL MAFIA DAN KORUPSI BOHIRNYA CENDANA CIKEAS ANIS BAS UEDAN DKK\", \"url\": \"https://twitter.com/Ambun321/status/1581929880828383232\"}\n",
            "{\"id\": 1581929805859414016, \"username\": \"YeyenKomala77\", \"date\": \"2022-10-17 08:47:11+00:00\", \"text\": \"Anggota Majelis Rakyat Papua (MRP) Herman Yoku meminta Komisi Pemberantasan Korupsi (KPK) untuk lebih serius menangani kasus dugaan korupsi Gubernur Papua Lukas Enembe. #LukasEnembeKoruptor #DukungOtonomiPapua https://t.co/BwRjK1s7eQ\", \"url\": \"https://twitter.com/YeyenKomala77/status/1581929805859414016\"}\n",
            "{\"id\": 1581929791321944067, \"username\": \"YeyenKomala77\", \"date\": \"2022-10-17 08:47:07+00:00\", \"text\": \"Sekretaris KNPI Kabupaten Keerom Michael Sineri menyarankan Lukas Enembe sebagai pemimpin harus berani untuk menghadapi proses hukum di Komisi Pemberantasan Korupsi (KPK). #LukasEnembeKoruptor #TolakReferendum https://t.co/Fu1CyxE74d\", \"url\": \"https://twitter.com/YeyenKomala77/status/1581929791321944067\"}\n",
            "{\"id\": 1581929776113016832, \"username\": \"RizkyNaruto5\", \"date\": \"2022-10-17 08:47:04+00:00\", \"text\": \"#RakyatTanya Kenapa sihh KPK Gak pernah Usut Korupsi Jokowi? ~ https://t.co/wensIOdVQP Jenderal08 Presiden2014com\", \"url\": \"https://twitter.com/RizkyNaruto5/status/1581929776113016832\"}\n",
            "{\"id\": 1581929764574875648, \"username\": \"NisaAndn17\", \"date\": \"2022-10-17 08:47:01+00:00\", \"text\": \"Pelayanan publik di Papua terhambat karena kondisi Lukas Enembe yang tidak mampu untuk bekerja secara maksimal. Lukas Enembe sedang sakit dan menjadi tersangka kasus korupsi. #LukasEnembeKoruptor #PapuaDamai https://t.co/vI739L7qg1\", \"url\": \"https://twitter.com/NisaAndn17/status/1581929764574875648\"}\n",
            "{\"id\": 1581929652083658752, \"username\": \"madrid_jkt58\", \"date\": \"2022-10-17 08:46:34+00:00\", \"text\": \"@pinhong13 @ynkfz @Miduk17 apalagi ahok? udah ketahuan kelebihan bayar 2 Trilyun lebih, udah ketahuan ada korupsi aman y? gimana yg g ketahuan?\", \"url\": \"https://twitter.com/madrid_jkt58/status/1581929652083658752\"}\n",
            "{\"id\": 1581929630009020416, \"username\": \"purw73\", \"date\": \"2022-10-17 08:46:29+00:00\", \"text\": \"@ChusnulCh__ Semua janji kampanye Anies dituntaskan, rmh DP 0%, Boti (bantuan operasional tempat ibadah,mbangun stadion JIS tanpa utang terbesar dan tercanggih di Asia Eropa, Bpk kesetaraan nasional, moda transportasi terintegrasi yg murah dan mengurangi kemacetan, WTP 0% dr BPK /nol korupsi.\", \"url\": \"https://twitter.com/purw73/status/1581929630009020416\"}\n",
            "{\"id\": 1581929621519364097, \"username\": \"RadarKorupsi\", \"date\": \"2022-10-17 08:46:27+00:00\", \"text\": \"1. Div Propam dan Pengawasan Polri coba dipisah dari Mabes Polri. Strukturnya harus diatas Mabes Polri dan dibawah Presiden.\\n\\n2. Batasi dan awasi membawa dan menggunakan senjata api, gas air mata dan kurangi penggunaan atribut \\n\\n3. Atau dibawah Kejaksaan/ PuspomABRI-POLRI https://t.co/zZyPOkBEta\", \"url\": \"https://twitter.com/RadarKorupsi/status/1581929621519364097\"}\n",
            "{\"id\": 1581929568126242816, \"username\": \"Parthen29773814\", \"date\": \"2022-10-17 08:46:14+00:00\", \"text\": \"Korupsi Musuh Bersama Tangkap Lukas Enembe\\n#TangkapLukasEnembe\\n#LukasEnembeTersangkaKorupsi\\n#PenjarakanLukasEnembe\\n#LukasEnembeKoruptor\\n#LukasEnembePenjahatPolitik\\n#LukasEnembePencuriUangRakyatPapua\\nMasyarakat Papua Berharap KPK Tangkap Gubernur Kruptor. https://t.co/ZHN2xelqeb\", \"url\": \"https://twitter.com/Parthen29773814/status/1581929568126242816\"}\n",
            "{\"id\": 1581929444415242241, \"username\": \"purw73\", \"date\": \"2022-10-17 08:45:45+00:00\", \"text\": \"@akhmad_rusmadi Semua janji kampanyenya dituntaskan, rmh DP 0%, Boti (bantuan operasional tempat ibadah,mbangun stadion JIS tanpa utang terbesar dan tercanggih di Asia Eropa, Bpk kesetaraan nasional, moda transportasi terintegrasi yg murah dan mengurangi kemacetan, WTP 0% dr BPK /nol korupsi.\", \"url\": \"https://twitter.com/purw73/status/1581929444415242241\"}\n",
            "{\"id\": 1581929419064889344, \"username\": \"JaheGab\", \"date\": \"2022-10-17 08:45:38+00:00\", \"text\": \"Abngku yg terhormat kl Anis korupsi kenapa kpk ga lngsung menyertnya..coba sebutkan ormas radikal,lintah darat..lalu yg di maksud penyamun siapa? https://t.co/mSoqUzZsv0\", \"url\": \"https://twitter.com/JaheGab/status/1581929419064889344\"}\n",
            "{\"id\": 1581929389356625925, \"username\": \"Muhamma28285023\", \"date\": \"2022-10-17 08:45:31+00:00\", \"text\": \"@Miduk17 @DKIJakarta Karna Ormas banyak sekali bawa lari uang negara, mereka ormas korupsi hampir setiap pelosok dan jengkal tanah NKRI.. otak lu waras gak??\", \"url\": \"https://twitter.com/Muhamma28285023/status/1581929389356625925\"}\n",
            "{\"id\": 1581929327050252289, \"username\": \"pinhong13\", \"date\": \"2022-10-17 08:45:17+00:00\", \"text\": \"@madrid_jkt58 @ynkfz @Miduk17 klo ketauan ya klbhan byr, klo gk ketauan kan sdh di korupsi\", \"url\": \"https://twitter.com/pinhong13/status/1581929327050252289\"}\n",
            "{\"id\": 1581929248633524225, \"username\": \"Parthen29773814\", \"date\": \"2022-10-17 08:44:58+00:00\", \"text\": \"Korupsi Musuh Bersama Tangkap Lukas Enembe.\\n#TangkapLukasEnembe\\n#LukasEnembeTersangkaKorupsi\\n#PenjarakanLukasEnembe\\n#LukasEnembeKoruptor\\n#LukasEnembePenjahatPolitik\\n#LukasEnembePencuriUangRakyatPapua\\nMasyarakat Papua Berharap KPK Tangkap Gubernur Kruptor. https://t.co/wKNRrbJf40\", \"url\": \"https://twitter.com/Parthen29773814/status/1581929248633524225\"}\n",
            "{\"id\": 1581929241825857536, \"username\": \"TarliSefi\", \"date\": \"2022-10-17 08:44:56+00:00\", \"text\": \"@AliTopa97395466 @mahasiswigenz Partai Korupsi Indonesia\", \"url\": \"https://twitter.com/TarliSefi/status/1581929241825857536\"}\n",
            "{\"id\": 1581929184288722944, \"username\": \"pinhong13\", \"date\": \"2022-10-17 08:44:43+00:00\", \"text\": \"@madrid_jkt58 @ynkfz @Miduk17 trus dpt WTP jamin gk korupsi drun ini 8 kali WTP drun https://t.co/641O9OhVhE\", \"url\": \"https://twitter.com/pinhong13/status/1581929184288722944\"}\n",
            "{\"id\": 1581929093175857153, \"username\": \"madrid_jkt58\", \"date\": \"2022-10-17 08:44:21+00:00\", \"text\": \"@pinhong13 @ynkfz @Miduk17 emang apalagi sampe trilyunan dan g bisa jelasin apalagi kembalikan kerugian negara. ancur negara.\\npaling parah beli lahan sendiri 648M, korupsi yg sangat jelas terang benderang 5 tahun g ada tersangka, mafia tanah nya merasa sakti korupsi lagi dah di lahan munjul https://t.co/5Yn4Z6K30i\", \"url\": \"https://twitter.com/madrid_jkt58/status/1581929093175857153\"}\n",
            "{\"id\": 1581929050532384769, \"username\": \"OposisiCerdas\", \"date\": \"2022-10-17 08:44:11+00:00\", \"text\": \"Oknum Polisi Coret Dinding Polres Luwu “Sarang Korupsi’ Berakhir di RS Gangguan Kejiwaan\\nhttps://t.co/lsX8NEK2dg\", \"url\": \"https://twitter.com/OposisiCerdas/status/1581929050532384769\"}\n",
            "{\"id\": 1581928974242164738, \"username\": \"ira2516\", \"date\": \"2022-10-17 08:43:52+00:00\", \"text\": \"@Miduk17 Waahhh bagua dong klo g ada korupsi biar APBN bsa bayar utang dan g ngutang lagi yg bikin sengsara\\nApa.kbar ruoiah hari ini .\", \"url\": \"https://twitter.com/ira2516/status/1581928974242164738\"}\n",
            "{\"id\": 1581928694800871424, \"username\": \"Parthen29773814\", \"date\": \"2022-10-17 08:42:46+00:00\", \"text\": \"Penjudi Handal\\n Korupsi Dana Otsus \\nPura2 Sakit\\n#TangkapLukasEnembe\\n#LukasEnembeTersangkaKorupsi\\n#PenjarakanLukasEnembe\\n#LukasEnembeKoruptor\\n#LukasEnembePenjahatPolitik\\n#LukasEnembePencuriUangRakyatPapua\\nMasyarakat Papua Berharap KPK Tangkap Gubernur Kruptor. https://t.co/Sl1cwk1NYA\", \"url\": \"https://twitter.com/Parthen29773814/status/1581928694800871424\"}\n",
            "{\"id\": 1581928445960892416, \"username\": \"RadarKorupsi\", \"date\": \"2022-10-17 08:41:46+00:00\", \"text\": \"@A1ki4_ku5_21 @jokowi Kita kan❤️n perhatian sama pak Jokowi. Salahnya dimana ?\", \"url\": \"https://twitter.com/RadarKorupsi/status/1581928445960892416\"}\n",
            "{\"id\": 1581928336955441154, \"username\": \"purw73\", \"date\": \"2022-10-17 08:41:20+00:00\", \"text\": \"@baroesy @Usuludin321 @tvOneNews Semua janji kampanye Anies dituntaskan, rmh DP 0%, Boti (bantuan operasional tempat ibadah,mbangun stadion JIS tanpa utang terbesar dan tercanggih di Asia Eropa, Bpk kesetaraan nasional, moda transportasi terintegrasi yg murah dan mengurangi kemacetan, WTP 0% dr BPK /nol korupsi.\", \"url\": \"https://twitter.com/purw73/status/1581928336955441154\"}\n",
            "{\"id\": 1581928176749776896, \"username\": \"711_Vandetta\", \"date\": \"2022-10-17 08:40:42+00:00\", \"text\": \"Doaku malam ini : Semoga Indonesia menjadi negara yang lebih baik Tanpa korupsi Amin\", \"url\": \"https://twitter.com/711_Vandetta/status/1581928176749776896\"}\n",
            "{\"id\": 1581928141018144769, \"username\": \"Marcell26062832\", \"date\": \"2022-10-17 08:40:34+00:00\", \"text\": \"@AyedAyh @rakairswa1 @Gombez018 @jokowi @mohmahfudmd @luhut_binsar @PDI_Perjuangan @Gerindra @PartaiGolkar @NasDem @DPP_PKB @PDemokrat @PKSejahtera @Fraksi_PAN @PartaiPerindo @psi_id @aniesbaswedan 🤣🤣🤣 treak2 kelebihan bayar loe blog..\\nkalau dia korupsi baru loe jingkrak2 blog. 🤣🤣🤣\\ntaek bangat https://t.co/Kiu88j8rdZ\", \"url\": \"https://twitter.com/Marcell26062832/status/1581928141018144769\"}\n",
            "{\"id\": 1581928140183855104, \"username\": \"purw73\", \"date\": \"2022-10-17 08:40:34+00:00\", \"text\": \"@yaniarsim @aniesbaswedan Semua janji kampanyenya dituntaskan, rmh DP 0%, Boti (bantuan operasional tempat ibadah,mbangun stadion JIS tanpa utang terbesar dan tercanggih di Asia Eropa, Bpk kesetaraan nasional, moda transportasi terintegrasi yg murah dan mengurangi kemacetan, WTP 0% dr BPK /nol korupsi.\", \"url\": \"https://twitter.com/purw73/status/1581928140183855104\"}\n",
            "{\"id\": 1581928066812588032, \"username\": \"FriscoWareck\", \"date\": \"2022-10-17 08:40:16+00:00\", \"text\": \"Terseret Kasus Dugaan Korupsi, Dewan Adat Suku Yewena Yosu Minta Gubernur Papua Lukas Enembe Berani Hadapi KPK https://t.co/Zm7FQW02lm\", \"url\": \"https://twitter.com/FriscoWareck/status/1581928066812588032\"}\n",
            "{\"id\": 1581927891289325569, \"username\": \"Kochikecil\", \"date\": \"2022-10-17 08:39:34+00:00\", \"text\": \"#jakarta #like cara ampuh berantas korupsi https://t.co/p9EBOAdrWT\", \"url\": \"https://twitter.com/Kochikecil/status/1581927891289325569\"}\n",
            "{\"id\": 1581927890483965953, \"username\": \"SavarDian\", \"date\": \"2022-10-17 08:39:34+00:00\", \"text\": \"#jakarta #like cara ampuh berantas korupsi https://t.co/2GOBfirlnm\", \"url\": \"https://twitter.com/SavarDian/status/1581927890483965953\"}\n",
            "{\"id\": 1581927889624190976, \"username\": \"januar_juna\", \"date\": \"2022-10-17 08:39:34+00:00\", \"text\": \"#bandung #instagram wajib ditiru, negara paling bersih dari korupsi https://t.co/5J4fQkhKUm\", \"url\": \"https://twitter.com/januar_juna/status/1581927889624190976\"}\n",
            "{\"id\": 1581927821794213889, \"username\": \"purw73\", \"date\": \"2022-10-17 08:39:18+00:00\", \"text\": \"@tempodotco Semua janji kampanyenya dituntaskan, rmh DP 0%, Boti (bantuan operasional tempat ibadah,mbangun stadion JIS tanpa utang terbesar dan tercanggih di Asia Eropa, Bpk kesetaraan nasional, moda transportasi terintegrasi yg murah dan mengurangi kemacetan, WTP 0% dr BPK /nol korupsi.\", \"url\": \"https://twitter.com/purw73/status/1581927821794213889\"}\n",
            "{\"id\": 1581927704521474050, \"username\": \"purw73\", \"date\": \"2022-10-17 08:38:50+00:00\", \"text\": \"@Save_Moslem Ganjar dr PDIP diduga korupsi ektp, yg didukung oligarki/konglomerat ( kasus Wadas, Ganjar buat peraturan hutan/gunung boleh u industri dan pertambangan) Jateng termiskin ke 17, bank Jateng jebol , pengurus Ganjaris itu berisi Buser  yg phobia Islam, yg suka menghina Islam, ulama\", \"url\": \"https://twitter.com/purw73/status/1581927704521474050\"}\n",
            "{\"id\": 1581927645524418560, \"username\": \"purw73\", \"date\": \"2022-10-17 08:38:36+00:00\", \"text\": \"@Save_Moslem Semua janji kampanye Anies dituntaskan, rmh DP 0%, Boti (bantuan operasional tempat ibadah,mbangun stadion JIS tanpa utang terbesar dan tercanggih di Asia Eropa, Bpk kesetaraan nasional, moda transportasi terintegrasi yg murah dan mengurangi kemacetan, WTP 0% dr BPK /nol korupsi.\", \"url\": \"https://twitter.com/purw73/status/1581927645524418560\"}\n",
            "{\"id\": 1581927392305876993, \"username\": \"purw73\", \"date\": \"2022-10-17 08:37:35+00:00\", \"text\": \"@yusuf_dumdum Semua janji kampanye Anies dituntaskan, rmh DP 0%, Boti (bantuan operasional tempat ibadah,mbangun stadion JIS tanpa utang terbesar dan tercanggih di Asia Eropa, Bpk kesetaraan nasional, moda transportasi terintegrasi yg murah dan mengurangi kemacetan, WTP 0% dr BPK /nol korupsi.\", \"url\": \"https://twitter.com/purw73/status/1581927392305876993\"}\n",
            "{\"id\": 1581927325569937409, \"username\": \"milleniYan\", \"date\": \"2022-10-17 08:37:19+00:00\", \"text\": \"@lingganesia kalo terjadi di kasus korupsi seru juga ya bang\", \"url\": \"https://twitter.com/milleniYan/status/1581927325569937409\"}\n",
            "{\"id\": 1581927219193995264, \"username\": \"MasaiSuvi\", \"date\": \"2022-10-17 08:36:54+00:00\", \"text\": \"@manusiagabersa1 anti korupsi\", \"url\": \"https://twitter.com/MasaiSuvi/status/1581927219193995264\"}\n",
            "{\"id\": 1581927030836572160, \"username\": \"purw73\", \"date\": \"2022-10-17 08:36:09+00:00\", \"text\": \"@M45Broo_ Semua janji kampanye Anies dituntaskan, rmh DP 0%, Boti (bantuan operasional tempat ibadah,mbangun stadion JIS tanpa utang terbesar dan tercanggih di Asia Eropa, Bpk kesetaraan nasional, moda transportasi terintegrasi yg murah dan mengurangi kemacetan, WTP 0% dr BPK /nol korupsi.\", \"url\": \"https://twitter.com/purw73/status/1581927030836572160\"}\n",
            "{\"id\": 1581926919385534465, \"username\": \"purw73\", \"date\": \"2022-10-17 08:35:43+00:00\", \"text\": \"@M45Broo_ Dia itu ngomong sama cermin ya.. DKI dipimpin dia , korupsi, Pertamina dipimpin dia , Pertamina merugi..\", \"url\": \"https://twitter.com/purw73/status/1581926919385534465\"}\n",
            "{\"id\": 1581926789068521472, \"username\": \"budiawandki\", \"date\": \"2022-10-17 08:35:11+00:00\", \"text\": \"@damarjati_dimas @yedi_kurniahadi @detikcom Jangan lupa. Jokowi ahok gak pernah buat ornamen, lebih bayar itu korupsi,\", \"url\": \"https://twitter.com/budiawandki/status/1581926789068521472\"}\n",
            "{\"id\": 1581926605303083008, \"username\": \"Roykarokaro2\", \"date\": \"2022-10-17 08:34:28+00:00\", \"text\": \"@Tita83079013 @aniesbaswedan @AgusYudhoyono @SBYudhoyono @NasDem @Pak_JK Grombolan perampok uang rakyat....\\n\\nKorupsi....korupsi...\", \"url\": \"https://twitter.com/Roykarokaro2/status/1581926605303083008\"}\n",
            "{\"id\": 1581926524277907456, \"username\": \"purw73\", \"date\": \"2022-10-17 08:34:08+00:00\", \"text\": \"@alextham878 Semua janji kampanyenya dituntaskan, rmh DP 0%, Boti (bantuan operasional tempat ibadah,mbangun stadion JIS tanpa utang terbesar dan tercanggih di Asia Eropa, Bpk kesetaraan nasional, moda transportasi terintegrasi yg murah dan mengurangi kemacetan, WTP 0% dr BPK /nol korupsi.\", \"url\": \"https://twitter.com/purw73/status/1581926524277907456\"}\n",
            "{\"id\": 1581926433995501568, \"username\": \"purw73\", \"date\": \"2022-10-17 08:33:47+00:00\", \"text\": \"@alextham878 Ganjar dr PDIP diduga korupsi ektp, yg didukung oligarki/konglomerat ( kasus Wadas, Ganjar buat peraturan hutan/gunung boleh u industri dan pertambangan) Jateng termiskin ke 17, bank Jateng jebol , pengurus Ganjaris itu berisi Buser  yg phobia Islam, yg suka menghina Islam, ulama\", \"url\": \"https://twitter.com/purw73/status/1581926433995501568\"}\n",
            "{\"id\": 1581925790609854465, \"username\": \"khalif_ah\", \"date\": \"2022-10-17 08:31:13+00:00\", \"text\": \"Hari ini:👉KPK dilemahkan.\\n              👉 Antivis Anti korupsi dibungkam.\\nRakyat Menderita,sementara Koruptor berpesta pora.\\n#JKWIngkarJanji https://t.co/B3KbL7ib9h\", \"url\": \"https://twitter.com/khalif_ah/status/1581925790609854465\"}\n",
            "{\"id\": 1581925745818935297, \"username\": \"Andreansyah_088\", \"date\": \"2022-10-17 08:31:03+00:00\", \"text\": \"Bapak @erickthohir dikenal sebagai sosok anti Korupsi dan sikap anti korupsi terlihat jelas saat bongkar berbagai mega kasus korupsi di BUMN.”\\n#BangkitBersamaET https://t.co/tYlThJtkRA\", \"url\": \"https://twitter.com/Andreansyah_088/status/1581925745818935297\"}\n",
            "{\"id\": 1581925707491733504, \"username\": \"Icha_ivander\", \"date\": \"2022-10-17 08:30:54+00:00\", \"text\": \"Harus dijemput paksa Lukas Enembe sudah korupsi dan berjudi menggunakan uang rakyat.  #TangkapLukasEnembe #LukasEnembeTersangkaKorupsi #PenjarakanLukasEnembe #LukasEnembeKoruptor #LukasEnembePenjahatPolitik #LukasEnembePencuriUangRakyatPapua Banten https://t.co/ET7Y5io9XJ\", \"url\": \"https://twitter.com/Icha_ivander/status/1581925707491733504\"}\n",
            "{\"id\": 1581925624910082048, \"username\": \"cz_binance_ZGnw\", \"date\": \"2022-10-17 08:30:34+00:00\", \"text\": \"@RaffiChristiana @kurawa Ingat Dia hanya Pjb.Gub. bkn Pilihan Rakyat DKI Tp pilihan Oligarki..Dia tersandera oleh Kasus Korupsi https://t.co/kWd3Rb6Fi9\", \"url\": \"https://twitter.com/cz_binance_ZGnw/status/1581925624910082048\"}\n",
            "{\"id\": 1581925604525363200, \"username\": \"Bithe_co\", \"date\": \"2022-10-17 08:30:29+00:00\", \"text\": \"Kasus Dugaan Korupsi Seminar Syekh Abdurrauf Singkili, Kadisdikbud: No Comment, https://t.co/AMcODI4FTG \\n\\n#Pemerintah #Aceh #persoalan #indonesia #Pemerintahan #masyarakat #Bitheco #infoaceh #beritaaceh #isuaceh #hukum #Indonesia #penguasa #rakyat\", \"url\": \"https://twitter.com/Bithe_co/status/1581925604525363200\"}\n",
            "{\"id\": 1581925504281894912, \"username\": \"xhnfi\", \"date\": \"2022-10-17 08:30:05+00:00\", \"text\": \"@Miduk17 faktanya tingkat korupsi tertinggi ada di pemerintahan ini.\", \"url\": \"https://twitter.com/xhnfi/status/1581925504281894912\"}\n",
            "{\"id\": 1581925430646697984, \"username\": \"Nizarkuntara\", \"date\": \"2022-10-17 08:29:48+00:00\", \"text\": \"Penyerahan SK PPPK, Pj Bupati: Resiko Korupsi Tubaba Kategori Waspada | Harian Momentum https://t.co/SLJOnZ6Xcj\", \"url\": \"https://twitter.com/Nizarkuntara/status/1581925430646697984\"}\n",
            "{\"id\": 1581925347326509056, \"username\": \"HKurniawanheru\", \"date\": \"2022-10-17 08:29:28+00:00\", \"text\": \"@Miduk17 Pemprov DKI Beli Lahan Miliknya Sendiri, Dugaan Korupsi Era Ahok Mangkrak 4 Tahun https://t.co/cXQfstIDMh via @BPK Perwakilan Provinsi DKI Jakarta\", \"url\": \"https://twitter.com/HKurniawanheru/status/1581925347326509056\"}\n",
            "{\"id\": 1581925321560817665, \"username\": \"Vierro6\", \"date\": \"2022-10-17 08:29:22+00:00\", \"text\": \"@p1_eka Itu hrpan kita smua.. dilihat aja sampai kpn bs mengungkap ada/tdknya indikasi korupsi di gelaran FE.\", \"url\": \"https://twitter.com/Vierro6/status/1581925321560817665\"}\n",
            "{\"id\": 1581925050714062849, \"username\": \"budiawandki\", \"date\": \"2022-10-17 08:28:17+00:00\", \"text\": \"@damarjati_dimas @yedi_kurniahadi @detikcom Lo katanya mau tarik ke belakang. Lo percaya Darwin atau agama? Coba KL s jarah agama\\nAtau mau ditarik ke Adam hawa orang mana. Orang Sunda? Wkkkk. Masih mau? Mana ini daripagi bukti lebih bayar sama dengan korupsi. 😎\", \"url\": \"https://twitter.com/budiawandki/status/1581925050714062849\"}\n",
            "{\"id\": 1581925020212686848, \"username\": \"mastotoping\", \"date\": \"2022-10-17 08:28:10+00:00\", \"text\": \"@kurawa 5 thn ASN DKI kerja dg jujur baik dn amanah. 5 thn WTP dn tdk ad kasus Korupsi. Kita lihat skrg dlm 2 thn ke depan, apkh tetep jd baik atau berubah ugal ugalan lg kayak jmn Ahok Jokowi? Waktu yg berbicara.\", \"url\": \"https://twitter.com/mastotoping/status/1581925020212686848\"}\n",
            "{\"id\": 1581924945504133120, \"username\": \"Art_SVL\", \"date\": \"2022-10-17 08:27:52+00:00\", \"text\": \"@adjisdoaibu @Standupindo Iss aneh betul jadi Presiden..\\n\\nMasa uang kas banyak bukannya di korupsi, dasar komika komika emang aneh aneh\", \"url\": \"https://twitter.com/Art_SVL/status/1581924945504133120\"}\n",
            "{\"id\": 1581924821994475522, \"username\": \"ppn_tgpandan\", \"date\": \"2022-10-17 08:27:22+00:00\", \"text\": \"(17/10) #SahabatBahari Subkoordinator Tata Kelola dan Pelayanan Usaha, Kukuh Permana menjadi pembina apel Senin pagi.\\nDalam arahannya pembina apel menyampaikan beberapa hal terkait Zona Integritas Wilayah Bebas dari Korupsi, diharapkan seluruh pegawai memahami dan menyikapi https://t.co/QMbXAmUI6Y\", \"url\": \"https://twitter.com/ppn_tgpandan/status/1581924821994475522\"}\n",
            "{\"id\": 1581924781490049024, \"username\": \"pinhong13\", \"date\": \"2022-10-17 08:27:13+00:00\", \"text\": \"@madrid_jkt58 @ynkfz @Miduk17 drun2 ada 471 laporan korupsi di dki ap asal lapor drun ditutupi pke WTP aj https://t.co/85QUxSZCjA\", \"url\": \"https://twitter.com/pinhong13/status/1581924781490049024\"}\n",
            "{\"id\": 1581924651986726912, \"username\": \"purw73\", \"date\": \"2022-10-17 08:26:42+00:00\", \"text\": \"@M45Broo_ Semua janji kampanyenya dituntaskan, rmh DP 0%, Boti (bantuan operasional tempat ibadah,mbangun stadion JIS tanpa utang terbesar dan tercanggih di Asia Eropa, Bpk kesetaraan nasional, moda transportasi terintegrasi yg murah dan mengurangi kemacetan, WTP 0% dr BPK /nol korupsi.\", \"url\": \"https://twitter.com/purw73/status/1581924651986726912\"}\n",
            "{\"id\": 1581924615307538432, \"username\": \"Sinarlampung1\", \"date\": \"2022-10-17 08:26:33+00:00\", \"text\": \"PEMATANK Laporkan Dugaan Korupsi Proyek DIR Rawa Jitu SPP IPIL Rp97 Miliar di Kejagung Sejak September 2022 https://t.co/V3wB5xVahf\", \"url\": \"https://twitter.com/Sinarlampung1/status/1581924615307538432\"}\n",
            "{\"id\": 1581924568637538304, \"username\": \"purw73\", \"date\": \"2022-10-17 08:26:22+00:00\", \"text\": \"@SantorinisSun Semua janji kampanyenya dituntaskan, rmh DP 0%, Boti (bantuan operasional tempat ibadah,mbangun stadion JIS tanpa utang terbesar dan tercanggih di Asia Eropa, Bpk kesetaraan nasional, moda transportasi terintegrasi yg murah dan mengurangi kemacetan, WTP 0% dr BPK /nol korupsi.\", \"url\": \"https://twitter.com/purw73/status/1581924568637538304\"}\n",
            "{\"id\": 1581924505672638466, \"username\": \"purw73\", \"date\": \"2022-10-17 08:26:07+00:00\", \"text\": \"@SantorinisSun Ganjar dr PDIP diduga korupsi ektp, yg didukung oligarki/konglomerat ( kasus Wadas, Ganjar buat peraturan hutan/gunung boleh u industri dan pertambangan) Jateng termiskin ke 17, bank Jateng jebol , pengurus Ganjaris itu berisi Buser  yg phobia Islam, yg suka menghina Islam, ulama\", \"url\": \"https://twitter.com/purw73/status/1581924505672638466\"}\n",
            "{\"id\": 1581924500350042112, \"username\": \"zaidanmuda\", \"date\": \"2022-10-17 08:26:06+00:00\", \"text\": \"@Miduk17 @KPK_RI Tendensius banget, mirip pekai..\\nKalau ada korupsi, kasih buktinya dong..\\n\\nHanya karena dendam kesumat si penista agama kalah pilkada hilang akal sehatnya\", \"url\": \"https://twitter.com/zaidanmuda/status/1581924500350042112\"}\n",
            "{\"id\": 1581924134657085440, \"username\": \"cz_binance_ZGnw\", \"date\": \"2022-10-17 08:24:39+00:00\", \"text\": \"@ChusnulCh__ Goodbener Indonesia Anies Rasyied Baswedan Ph.D Di gantikan Oleh Jongos Oligarki..Dia Di pilih oleh Pemerintah bkn Rakyat DKI ingat itu,Dan Ingat Pjb.Gub. skrg tersandera dgn Kasus Korupsi..Itu Penjelasan MAKI lho https://t.co/2a1GmCcasC\", \"url\": \"https://twitter.com/cz_binance_ZGnw/status/1581924134657085440\"}\n",
            "{\"id\": 1581924073608605697, \"username\": \"LarniNoviana\", \"date\": \"2022-10-17 08:24:24+00:00\", \"text\": \"Anies sedang diduga Korupsi, Nasdem malah Deklarasi Anies Capres. #AniesNasdemOut #TenggelamkanNasdem #TenggelamkanAniesNasdem #TenggelamkanPartaiNasdem #GoodByeNasdemAnies #AniesGabenerPembohong #KagagalanAniesituNyata Banten https://t.co/Y5GqyT1L1Z\", \"url\": \"https://twitter.com/LarniNoviana/status/1581924073608605697\"}\n",
            "{\"id\": 1581924000082833414, \"username\": \"purw73\", \"date\": \"2022-10-17 08:24:07+00:00\", \"text\": \"@AndiSinulingga Semua janji kampanyenya dituntaskan, rmh DP 0%, Boti (bantuan operasional tempat ibadah,mbangun stadion JIS tanpa utang terbesar dan tercanggih di Asia Eropa, Bpk kesetaraan nasional, moda transportasi terintegrasi yg murah dan mengurangi kemacetan, WTP 0% dr BPK /nol korupsi.\", \"url\": \"https://twitter.com/purw73/status/1581924000082833414\"}\n",
            "{\"id\": 1581923871711965184, \"username\": \"smartman1971\", \"date\": \"2022-10-17 08:23:36+00:00\", \"text\": \"@geloraco Kpk jangan biarkan rakyat saling berantem di medsos segera buktikan saja secepatnya, biar masalahnya clear,kami sangat yakin @aniesmania tidak korupsi makanya segera buktikan jangan hanya ribut di medsos\", \"url\": \"https://twitter.com/smartman1971/status/1581923871711965184\"}\n",
            "{\"id\": 1581923472917549056, \"username\": \"purw73\", \"date\": \"2022-10-17 08:22:01+00:00\", \"text\": \"@mahasiswigenz Ganjar dr PDIP diduga korupsi ektp, yg didukung oligarki/konglomerat ( kasus Wadas, Ganjar buat peraturan hutan/gunung boleh uindustri dan pertambangan) Jateng termiskin ke 17, bank Jateng jebol , pengurus Ganjaris itu berisi Buser  yg phobia Islam, yg suka menghina Islam, ulama,\", \"url\": \"https://twitter.com/purw73/status/1581923472917549056\"}\n",
            "{\"id\": 1581923306273673218, \"username\": \"DinoSaras1\", \"date\": \"2022-10-17 08:21:21+00:00\", \"text\": \"Janji akan memberantas korupsi,ingkar.janji mwmberantas mafia,ingkar.janji menuntaskan pelanggaran HAM berat,ingkar.janji ekonomi meroket,ingkar.#JKWIngkarJanji\", \"url\": \"https://twitter.com/DinoSaras1/status/1581923306273673218\"}\n",
            "{\"id\": 1581923279941427210, \"username\": \"RadarKorupsi\", \"date\": \"2022-10-17 08:21:15+00:00\", \"text\": \"Karena bertemu teman sedang berkuasa itu beda jauh nilainya dengan bertemu teman setelah berkuasa.\\n\\nMaka hanya memperlihatkan semua ijazah asli lah yang bisa menjawab semua keraguan. https://t.co/HoVD7rzG2a\", \"url\": \"https://twitter.com/RadarKorupsi/status/1581923279941427210\"}\n",
            "{\"id\": 1581923199213703170, \"username\": \"ezaazee\", \"date\": \"2022-10-17 08:20:56+00:00\", \"text\": \"@nobi_zen @ALmanumitan @CNNIndonesia bikin malu aja nih orang bekasi, pulang pulang. walikota kita lagi korupsi noh.\", \"url\": \"https://twitter.com/ezaazee/status/1581923199213703170\"}\n",
            "{\"id\": 1581923070683422720, \"username\": \"LarniNoviana\", \"date\": \"2022-10-17 08:20:25+00:00\", \"text\": \"Ga Bener lagi diduga korupsi, eh malah dipercapat deklarasinya. #AniesNasdemOut #TenggelamkanNasdem #TenggelamkanAniesNasdem #TenggelamkanPartaiNasdem #GoodByeNasdemAnies #AniesGabenerPembohong #KagagalanAniesituNyata Banten https://t.co/Y6RRg1nOyV\", \"url\": \"https://twitter.com/LarniNoviana/status/1581923070683422720\"}\n",
            "{\"id\": 1581922965129932800, \"username\": \"purw73\", \"date\": \"2022-10-17 08:20:00+00:00\", \"text\": \"@Paltiwest Semua janji kampanyenya dituntaskan, rmh DP 0%, Boti (bantuan operasional tempat ibadah,mbangun stadion JIS tanpa utang terbesar dan tercanggih di Asia Eropa, Bpk kesetaraan nasional, moda transportasi terintegrasi yg murah dan mengurangi kemacetan, WTP 0% dr BPK /nol korupsi.\", \"url\": \"https://twitter.com/purw73/status/1581922965129932800\"}\n",
            "{\"id\": 1581922908188082176, \"username\": \"paklikyion\", \"date\": \"2022-10-17 08:19:46+00:00\", \"text\": \"@kurawa Ambyar ambyar, duit duit duit, korupsi\", \"url\": \"https://twitter.com/paklikyion/status/1581922908188082176\"}\n",
            "{\"id\": 1581922817993740289, \"username\": \"purw73\", \"date\": \"2022-10-17 08:19:25+00:00\", \"text\": \"@Ozil855282201 Ganjar dr PDIP diduga korupsi ektp, yg didukung konglomerat ( kasus Wadas), Ganjar buat peraturan hutan/gunung boleh u industri dan pertambangan, Jateng termiskin ke 17, bank Jateng jebol , pengurus Ganjaris itu berisi Buser  yg phobia Islam, yg suka menghina Islam, ulama,\", \"url\": \"https://twitter.com/purw73/status/1581922817993740289\"}\n",
            "{\"id\": 1581922683050426368, \"username\": \"purw73\", \"date\": \"2022-10-17 08:18:52+00:00\", \"text\": \"@Ozil855282201 Semua janji kampanyenya dituntaskan, rmh DP 0%, Boti (bantuan operasional tempat ibadah,mbangun stadion JIS tanpa utang terbesar dan tercanggih di Asia Eropa, Bpk kesetaraan nasional, moda transportasi terintegrasi yg murah dan mengurangi kemacetan, WTP 0% dr BPK /nol korupsi.\", \"url\": \"https://twitter.com/purw73/status/1581922683050426368\"}\n",
            "{\"id\": 1581922672803713024, \"username\": \"Valosenadya1\", \"date\": \"2022-10-17 08:18:50+00:00\", \"text\": \"@KPK_RI kenapa tidak tegakkan hukum pd kasus korupsi Sumber Waras walau langit runtuh ?, kan tinggal ditangkap-tangkapi saja itu..!! https://t.co/jixmI5SdBP\", \"url\": \"https://twitter.com/Valosenadya1/status/1581922672803713024\"}\n",
            "{\"id\": 1581922661617127424, \"username\": \"madrid_jkt58\", \"date\": \"2022-10-17 08:18:47+00:00\", \"text\": \"@pinhong13 @ynkfz @Miduk17 Terus ada bukti WTP anies beli? Sambo rekayasa kasus, gw musti bilang semua polisi rekayasa kasus?\\nWkwk, emang bigot harus goblok.yg jelas2 ada korupsi karena beli tanah sendiri 648M wajar g dapat WTP malah nuduh WTP beli?!\\nWkwk goblok\", \"url\": \"https://twitter.com/madrid_jkt58/status/1581922661617127424\"}\n",
            "{\"id\": 1581922597843140610, \"username\": \"cz_binance_ZGnw\", \"date\": \"2022-10-17 08:18:32+00:00\", \"text\": \"@kurawa Kembalinya Kacung Oligarki Ke Balaikota DKI..Ini Pjb.Gub. tersandera Kasus Korupsi Yg Oleh MAKI Diharapkan tdk di angkat sbgai Pjb.Gub.DKI Tp atas desakan Oligarki Jokowi tdk Peduli saran MAKI https://t.co/OQTTUUoWNS\", \"url\": \"https://twitter.com/cz_binance_ZGnw/status/1581922597843140610\"}\n",
            "{\"id\": 1581922522940862464, \"username\": \"nikki_cherry10\", \"date\": \"2022-10-17 08:18:14+00:00\", \"text\": \"Anies sedang diguga korupsi nasdem malah deklarasi  #AniesNasdemOut #TenggelamkanNasdem #TenggelamkanAniesNasdem #TenggelamkanPartaiNasdem #GoodByeNasdemAnies #AniesGabenerPembohong #KagagalanAniesituNyata Banten\", \"url\": \"https://twitter.com/nikki_cherry10/status/1581922522940862464\"}\n",
            "{\"id\": 1581922400383692801, \"username\": \"pinhong13\", \"date\": \"2022-10-17 08:17:45+00:00\", \"text\": \"@madrid_jkt58 @ynkfz @Miduk17 ini 8kali WTP knp jd tersangka korupsi drun https://t.co/Qx3eNyTWX7\", \"url\": \"https://twitter.com/pinhong13/status/1581922400383692801\"}\n",
            "{\"id\": 1581922391433048066, \"username\": \"purw73\", \"date\": \"2022-10-17 08:17:43+00:00\", \"text\": \"@ChusnulCh__ @kurawa Semua janji kampanyenya dituntaskan, rmh DP 0%, Boti (bantuan operasional tempat ibadah,mbangun stadion JIS tanpa utang terbesar dan tercanggih di Asia Eropa, Bpk kesetaraan nasional, moda transportasi terintegrasi yg murah dan mengurangi kemacetan, WTP 0% dr BPK /nol korupsi.\", \"url\": \"https://twitter.com/purw73/status/1581922391433048066\"}\n",
            "{\"id\": 1581922337838239745, \"username\": \"purw73\", \"date\": \"2022-10-17 08:17:30+00:00\", \"text\": \"@ChusnulCh__ @kurawa Ganjar dr PDIP diduga korupsi ektp, yg didukung konglomerat ( kasus Wadas), Ganjar buat peraturan hutan/gunung boleh u industri dan pertambangan, Jateng termiskin ke 17, bank Jateng jebol , pengurus Ganjaris itu berisi Buser  yg phobia Islam, yg suka menghina Islam, ulama,\", \"url\": \"https://twitter.com/purw73/status/1581922337838239745\"}\n",
            "{\"id\": 1581922150877114371, \"username\": \"purw73\", \"date\": \"2022-10-17 08:16:46+00:00\", \"text\": \"@ganjarpranowo Ganjar dr PDIP diduga korupsi ektp, yg didukung konglomerat ( kasus Wadas), Ganjar buat peraturan hutan/gunung boleh u industri dan pertambangan, Jateng termiskin ke 17, bank Jateng jebol , pengurus Ganjaris itu berisi Buser  yg phobia Islam, yg suka menghina Islam, ulama\", \"url\": \"https://twitter.com/purw73/status/1581922150877114371\"}\n",
            "{\"id\": 1581922110288834560, \"username\": \"nikki_cherry10\", \"date\": \"2022-10-17 08:16:36+00:00\", \"text\": \"Korupsi tidak layak menjadi pemimpin #AniesNasdemOut #TenggelamkanNasdem #TenggelamkanAniesNasdem #TenggelamkanPartaiNasdem #GoodByeNasdemAnies #AniesGabenerPembohong #KagagalanAniesituNyata Banten\", \"url\": \"https://twitter.com/nikki_cherry10/status/1581922110288834560\"}\n",
            "{\"id\": 1581921876611584002, \"username\": \"Jems53864395\", \"date\": \"2022-10-17 08:15:40+00:00\", \"text\": \"Semoga Kasus Korupsi Sumber Waras menjadi terang benderang. Hal itu penting, mengapa..? agar tdk ada fitnah dikemudian hari\", \"url\": \"https://twitter.com/Jems53864395/status/1581921876611584002\"}\n",
            "{\"id\": 1581921779236290561, \"username\": \"RadarKorupsi\", \"date\": \"2022-10-17 08:15:17+00:00\", \"text\": \"@papa_loren Menurut saya :\\nKetemu teman saat berkuasa, dengan sebelum atau setelah  berkuasa, beda nilainya.\\n\\nSaat berkuasa, suatu hubungan beku bisa menjadi  cair.\\n\\nYang gak kenal, bisa menjadi akrab.\", \"url\": \"https://twitter.com/RadarKorupsi/status/1581921779236290561\"}\n",
            "{\"id\": 1581921771724615682, \"username\": \"Icha_ivander\", \"date\": \"2022-10-17 08:15:15+00:00\", \"text\": \"Betul penjarakan si lukas enembe kang korupsi. #TangkapLukasEnembe #LukasEnembeTersangkaKorupsi #PenjarakanLukasEnembe #LukasEnembeKoruptor #LukasEnembePenjahatPolitik #LukasEnembePencuriUangRakyatPapua Banten\", \"url\": \"https://twitter.com/Icha_ivander/status/1581921771724615682\"}\n",
            "{\"id\": 1581921764850167808, \"username\": \"YongkySusanto1\", \"date\": \"2022-10-17 08:15:14+00:00\", \"text\": \"@KepaArgawinata @Dennysiregar7 @aniesbaswedan Orang2 bayaran semua mereka.... duit wan garong kan banyaakkkkk sekali dari hasil kelebihan bayar alias korupsi model baru...🤣🤣🤣🤣🤣\", \"url\": \"https://twitter.com/YongkySusanto1/status/1581921764850167808\"}\n",
            "{\"id\": 1581921744335818752, \"username\": \"purw73\", \"date\": \"2022-10-17 08:15:09+00:00\", \"text\": \"@muhammad_husnil @tatakujiyati @DKIJakarta Ganjar dr PDIP diduga korupsi ektp, yg didukung oligarki/konglomerat ( kasus Wadas, Ganjar buat peraturan hutan/gunung boleh u industri dan pertambangan) Jateng termiskin ke 17, bank Jateng jebol , pengurus Ganjaris itu berisi Buser  yg phobia Islam, yg suka menghina Islam, ulama\", \"url\": \"https://twitter.com/purw73/status/1581921744335818752\"}\n",
            "{\"id\": 1581921713507663874, \"username\": \"RizkiarBaswedan\", \"date\": \"2022-10-17 08:15:01+00:00\", \"text\": \"@gibran_tweet Di hukum mundur dr walikota solo.\\nDan datang ke kPK RI.\\nUtk pemeriksaan terkait korupsi KKN ..\\n\\n#IndonesiaMemanggil\", \"url\": \"https://twitter.com/RizkiarBaswedan/status/1581921713507663874\"}\n",
            "{\"id\": 1581921669857579010, \"username\": \"purw73\", \"date\": \"2022-10-17 08:14:51+00:00\", \"text\": \"@muhammad_husnil @tatakujiyati @DKIJakarta Semua janji kampanyenya dituntaskan, rmh DP 0%, Boti (bantuan operasional tempat ibadah,mbangun stadion JIS tanpa utang terbesar dan tercanggih di Asia Eropa, Bpk kesetaraan nasional, moda transportasi terintegrasi yg murah dan mengurangi kemacetan, WTP 0% dr BPK /nol korupsi.\", \"url\": \"https://twitter.com/purw73/status/1581921669857579010\"}\n",
            "{\"id\": 1581921604074110978, \"username\": \"AntiBuzzeRP45\", \"date\": \"2022-10-17 08:14:35+00:00\", \"text\": \"@firzahusainInc Kerja...Kerja...Kerja....Lalu....Ngutang Ngibul Korupsi.....Ngutang Ngibul Korupsi.....Ngutang Ngibul Korupsi\", \"url\": \"https://twitter.com/AntiBuzzeRP45/status/1581921604074110978\"}\n"
          ]
        }
      ]
    },
    {
      "cell_type": "markdown",
      "source": [
        "**Langkah 7**"
      ],
      "metadata": {
        "id": "rZBfwPds8-gw"
      }
    },
    {
      "cell_type": "code",
      "source": [
        "!pip install Sastrawi"
      ],
      "metadata": {
        "colab": {
          "base_uri": "https://localhost:8080/"
        },
        "id": "DfrCCd5u9jAn",
        "outputId": "89f2fdb2-518b-42f2-f54a-247c9225c641"
      },
      "execution_count": 8,
      "outputs": [
        {
          "output_type": "stream",
          "name": "stdout",
          "text": [
            "Looking in indexes: https://pypi.org/simple, https://us-python.pkg.dev/colab-wheels/public/simple/\n",
            "Collecting Sastrawi\n",
            "  Downloading Sastrawi-1.0.1-py2.py3-none-any.whl (209 kB)\n",
            "\u001b[K     |████████████████████████████████| 209 kB 5.0 MB/s \n",
            "\u001b[?25hInstalling collected packages: Sastrawi\n",
            "Successfully installed Sastrawi-1.0.1\n"
          ]
        }
      ]
    },
    {
      "cell_type": "markdown",
      "source": [
        "**Langkah 8**"
      ],
      "metadata": {
        "id": "MhbiW5BK9tx3"
      }
    },
    {
      "cell_type": "code",
      "source": [
        "import re\n",
        "import string\n",
        "from Sastrawi.Stemmer.StemmerFactory import StemmerFactory# create stemmer\n",
        "factory = StemmerFactory()\n",
        "stemmer = factory.create_stemmer()# stemming process\n",
        "# import StopWordRemoverFactory class\n",
        "from Sastrawi.StopWordRemover.StopWordRemoverFactory import StopWordRemoverFactory\n",
        "factory = StopWordRemoverFactory()\n",
        "stopword = factory.create_stop_word_remover()\n",
        "documents_clean=[]\n",
        "\n",
        "for d in datatweet:\n",
        "    outputstem= stemmer.stem(d)\n",
        "    d= stopword.remove(outputstem)\n",
        "    # Remove Unicode\n",
        "    document_test = re.sub(r'[^\\x00-\\x7F]+', ' ', d)\n",
        "    # Remove Mentions\n",
        "    document_test = re.sub(r'@\\w+', '', document_test)\n",
        "    # Lowercase the document\n",
        "    document_test = document_test.lower()\n",
        "    # Remove punctuations\n",
        "    document_test = re.sub(r'[%s]' % re.escape(string.punctuation), ' ', document_test)\n",
        "    # Lowercase the numbers\n",
        "    document_test = re.sub(r'[0-9]', '', document_test)\n",
        "    # Remove the doubled space\n",
        "    outputstop = re.sub(r'\\s{2,}', ' ', document_test)\n",
        "    documents_clean.append(outputstop)"
      ],
      "metadata": {
        "id": "IvDCGDJ19wdR"
      },
      "execution_count": 9,
      "outputs": []
    },
    {
      "cell_type": "markdown",
      "source": [
        "**Langkah 9**"
      ],
      "metadata": {
        "id": "lDYTb8G3-RjH"
      }
    },
    {
      "cell_type": "code",
      "source": [
        "documents_clean[5]"
      ],
      "metadata": {
        "colab": {
          "base_uri": "https://localhost:8080/",
          "height": 53
        },
        "id": "HOJe7Osu-TIW",
        "outputId": "e2ed3d33-d148-4664-ace0-20b5624bc3ff"
      },
      "execution_count": 17,
      "outputs": [
        {
          "output_type": "execute_result",
          "data": {
            "text/plain": [
              "'senin oktober kpu belitung timur laksana penandatangan fakta integritas lingkung kpu kabupaten belitung timur giat adalah program giat canang zona integritas tuju wilayah bebas korupsi'"
            ],
            "application/vnd.google.colaboratory.intrinsic+json": {
              "type": "string"
            }
          },
          "metadata": {},
          "execution_count": 17
        }
      ]
    },
    {
      "cell_type": "markdown",
      "source": [
        "**Langkah 10**"
      ],
      "metadata": {
        "id": "gZ8gnwx6Zx9P"
      }
    },
    {
      "cell_type": "code",
      "source": [
        "from sklearn.feature_extraction.text import CountVectorizer \n",
        "import matplotlib.pyplot as plt\n",
        "import numpy as np # linear algebra\n",
        "import pandas as pd # data processing, CSV file I/O (e.g. pd.read_csv)\n",
        "cv = CountVectorizer()\n",
        "words = cv.fit_transform(documents_clean)\n",
        "sum_words = words.sum(axis=0)\n",
        "\n",
        "\n",
        "words_freq = [(word, sum_words[0, idx]) for word, idx in cv.vocabulary_.items()]\n",
        "words_freq = sorted(words_freq, key = lambda x: x[1], reverse = True)\n",
        "frequency = pd.DataFrame(words_freq, columns=['word', 'freq'])\n",
        "\n",
        "color = plt.cm.twilight(np.linspace(0, 1, 20))\n",
        "frequency.head(20).plot(x='word', y='freq', kind='bar', figsize=(15, 7), color = color)\n",
        "plt.title(\"Most Frequently Occuring Words - Top 20\")"
      ],
      "metadata": {
        "colab": {
          "base_uri": "https://localhost:8080/",
          "height": 502
        },
        "id": "knUNfFnVaQLW",
        "outputId": "f3f6e4bf-6a48-43bc-9ad8-b2326d60a16c"
      },
      "execution_count": 23,
      "outputs": [
        {
          "output_type": "execute_result",
          "data": {
            "text/plain": [
              "Text(0.5, 1.0, 'Most Frequently Occuring Words - Top 20')"
            ]
          },
          "metadata": {},
          "execution_count": 23
        },
        {
          "output_type": "display_data",
          "data": {
            "text/plain": [
              "<Figure size 1080x504 with 1 Axes>"
            ],
            "image/png": "[encoded data removed]"
          },
          "metadata": {
            "needs_background": "light"
          }
        }
      ]
    },
    {
      "cell_type": "markdown",
      "source": [
        "**Langkah 11**"
      ],
      "metadata": {
        "id": "Xsip4ttqbvfG"
      }
    },
    {
      "cell_type": "code",
      "source": [
        "from sklearn.cluster import KMeans\n",
        "true_k = 3\n",
        "model = KMeans(n_clusters=true_k, init='k-means++', max_iter=100, n_init=1)\n",
        "model.fit(words)"
      ],
      "metadata": {
        "colab": {
          "base_uri": "https://localhost:8080/"
        },
        "id": "wwYSaPFcaW_6",
        "outputId": "d9d827bb-f6ff-4cb8-f5c9-9fe4d2a85ac5"
      },
      "execution_count": 24,
      "outputs": [
        {
          "output_type": "execute_result",
          "data": {
            "text/plain": [
              "KMeans(max_iter=100, n_clusters=3, n_init=1)"
            ]
          },
          "metadata": {},
          "execution_count": 24
        }
      ]
    },
    {
      "cell_type": "markdown",
      "source": [
        "**Langkah 12**"
      ],
      "metadata": {
        "id": "9KEhrqRgb3kF"
      }
    },
    {
      "cell_type": "code",
      "source": [
        "order_centroids = model.cluster_centers_.argsort()[:, ::-1]\n",
        "terms = cv.get_feature_names_out()\n",
        "\n",
        "for i in range(true_k):\n",
        "  print(\"Cluster %d:\" % i),\n",
        "  \n",
        "  for ind in order_centroids[i, :10]:\n",
        "      print(' %s' % terms[ind]),\n",
        "  \n",
        "  print()"
      ],
      "metadata": {
        "colab": {
          "base_uri": "https://localhost:8080/"
        },
        "id": "BGJnQtzuaaR5",
        "outputId": "662044b3-be08-4d05-93b4-376f869171ed"
      },
      "execution_count": 27,
      "outputs": [
        {
          "output_type": "stream",
          "name": "stdout",
          "text": [
            "Cluster 0:\n",
            " aniesnasdemout\n",
            " korupsi\n",
            " tenggelamkanpartainasdem\n",
            " tenggelamkannasdem\n",
            " goodbyenasdemanies\n",
            " tenggelamkananiesnasdem\n",
            " aniesgabenerpembohong\n",
            " kagagalananiesitunyata\n",
            " banten\n",
            " anies\n",
            "\n",
            "Cluster 1:\n",
            " bpk\n",
            " ibadah\n",
            " rmh\n",
            " bantu\n",
            " macet\n",
            " moda\n",
            " bot\n",
            " tara\n",
            " janji\n",
            " canggih\n",
            "\n",
            "Cluster 2:\n",
            " korupsi\n",
            " yg\n",
            " kasus\n",
            " ganjar\n",
            " duga\n",
            " kpk\n",
            " wtp\n",
            " islam\n",
            " orang\n",
            " jateng\n",
            "\n"
          ]
        }
      ]
    },
    {
      "cell_type": "markdown",
      "source": [
        "**Langkah 13**"
      ],
      "metadata": {
        "id": "0MInsKtCb64C"
      }
    },
    {
      "cell_type": "code",
      "source": [
        "print(\"Prediction\")\n",
        "Y = cv.transform([\"stadion\"])\n",
        "prediction = model.predict(Y)\n",
        "print(\"Cluster number :\", prediction)\n",
        "Y = cv.transform([\"jis\"])\n",
        "prediction = model.predict(Y)\n",
        "print(\"Cluster number :\", prediction)"
      ],
      "metadata": {
        "colab": {
          "base_uri": "https://localhost:8080/"
        },
        "id": "JOdWcrG1awsZ",
        "outputId": "380cd822-a917-44d1-94d9-72fc56f52800"
      },
      "execution_count": 28,
      "outputs": [
        {
          "output_type": "stream",
          "name": "stdout",
          "text": [
            "Prediction\n",
            "Cluster number : [2]\n",
            "Cluster number : [2]\n"
          ]
        }
      ]
    },
    {
      "cell_type": "markdown",
      "source": [
        "**Langkah 14**"
      ],
      "metadata": {
        "id": "QP3dIuwkcA6w"
      }
    },
    {
      "cell_type": "code",
      "source": [
        "import scipy.cluster.hierarchy as sch\n",
        "X = cv.fit_transform(documents_clean).todense()\n",
        "dendrogram = sch.dendrogram(sch.linkage(X, method = 'ward',metric='euclidean'),orientation=\"top\")\n",
        "plt.title('Dendrogram')\n",
        "plt.xlabel('Jarak Ward')\n",
        "plt.ylabel('Nomor Dokumen')\n",
        "plt.show()"
      ],
      "metadata": {
        "colab": {
          "base_uri": "https://localhost:8080/",
          "height": 295
        },
        "id": "9_RQbngBa3Nm",
        "outputId": "392b9938-d351-4610-b020-76d1b641953b"
      },
      "execution_count": 29,
      "outputs": [
        {
          "output_type": "display_data",
          "data": {
            "text/plain": [
              "<Figure size 432x288 with 1 Axes>"
            ],
            "image/png": "[encoded data removed]"
          },
          "metadata": {
            "needs_background": "light"
          }
        }
      ]
    },
    {
      "cell_type": "markdown",
      "source": [
        "**Langkah 15**"
      ],
      "metadata": {
        "id": "-3oFxvj4cEow"
      }
    },
    {
      "cell_type": "code",
      "source": [
        "import scipy.cluster.hierarchy as sch\n",
        "X = cv.fit_transform(documents_clean).todense()\n",
        "dendrogram = sch.dendrogram(sch.linkage(X, method = 'average',metric='euclidean'),orientation=\"right\")\n",
        "plt.title('Dendrogram')\n",
        "plt.xlabel('Jarak Rerata')\n",
        "plt.ylabel('Nomor Dokumen')\n",
        "plt.show()"
      ],
      "metadata": {
        "colab": {
          "base_uri": "https://localhost:8080/",
          "height": 295
        },
        "id": "GF2K3uKPa3Xa",
        "outputId": "b9f32312-9296-4d18-ab38-eddfe3ac658a"
      },
      "execution_count": 30,
      "outputs": [
        {
          "output_type": "display_data",
          "data": {
            "text/plain": [
              "<Figure size 432x288 with 1 Axes>"
            ],
            "image/png": "[encoded data removed]"
          },
          "metadata": {
            "needs_background": "light"
          }
        }
      ]
    },
    {
      "cell_type": "markdown",
      "source": [
        "**Langkah 16**"
      ],
      "metadata": {
        "id": "J0kNgCgacIqe"
      }
    },
    {
      "cell_type": "code",
      "source": [
        "from sklearn.cluster import AgglomerativeClustering\n",
        "\n",
        "cluster = AgglomerativeClustering(n_clusters=6, affinity='euclidean', linkage='ward')  \n",
        "cluster.fit_predict(X) \n",
        "print(cluster.labels_)"
      ],
      "metadata": {
        "colab": {
          "base_uri": "https://localhost:8080/"
        },
        "id": "thUDDP1Da3dI",
        "outputId": "40a64c24-0ca7-4682-fd55-d4ed0a210eca"
      },
      "execution_count": 34,
      "outputs": [
        {
          "output_type": "stream",
          "name": "stdout",
          "text": [
            "[0 0 0 0 0 0 0 0 0 0 0 0 0 0 0 0 2 0 0 0 0 0 0 0 0 0 0 0 0 0 4 0 0 0 0 0 0\n",
            " 0 0 0 0 0 0 0 0 0 0 0 0 0 0 4 0 0 4 0 0 0 0 0 0 0 0 0 0 0 4 0 0 0 4 0 0 0\n",
            " 0 1 1 0 0 0 0 0 0 0 0 4 0 0 0 0 0 0 0 2 0 0 1 0 1 1 0 1 0 3 0 1 3 0 0 0 1\n",
            " 0 0 0 0 0 1 0 3 0 0 3 1 0 0 0 3 5 3 3 0 0 3 0 0 0 3 5 0 0 1 0 0 0 0 0 0 0\n",
            " 0 0 0 0 3 0 3 5 0 0 4 3 0 5 0 0 0 4 3 0 5 3 0 2 0 4 0 3 5 5 4 0 0 1 0 5 0\n",
            " 3 0]\n"
          ]
        },
        {
          "output_type": "stream",
          "name": "stderr",
          "text": [
            "/usr/local/lib/python3.7/dist-packages/sklearn/utils/validation.py:598: FutureWarning: np.matrix usage is deprecated in 1.0 and will raise a TypeError in 1.2. Please convert to a numpy array with np.asarray. For more information see: https://numpy.org/doc/stable/reference/generated/numpy.matrix.html\n",
            "  FutureWarning,\n"
          ]
        }
      ]
    },
    {
      "cell_type": "markdown",
      "source": [
        "**Langkah 17**"
      ],
      "metadata": {
        "id": "Fq0hWH_RcLqP"
      }
    },
    {
      "cell_type": "code",
      "source": [
        "from scipy.cluster.hierarchy import dendrogram, linkage\n",
        "from matplotlib import pyplot as plt\n",
        "\n",
        "linked = linkage(X, 'single')\n",
        "\n",
        "labelList = range(0, len(cluster.labels_))\n",
        "\n",
        "plt.figure(figsize=(15, 10))\n",
        "dendrogram(linked,\n",
        "            orientation='top',\n",
        "            labels=labelList,\n",
        "            distance_sort='descending',\n",
        "            show_leaf_counts=True)\n",
        "plt.show()"
      ],
      "metadata": {
        "colab": {
          "base_uri": "https://localhost:8080/",
          "height": 591
        },
        "id": "Zazvj80QbVeJ",
        "outputId": "4f663dcf-b4c7-415a-99d2-cfeb62ad8508"
      },
      "execution_count": 35,
      "outputs": [
        {
          "output_type": "display_data",
          "data": {
            "text/plain": [
              "<Figure size 1080x720 with 1 Axes>"
            ],
            "image/png": "[encoded data removed]"
          },
          "metadata": {
            "needs_background": "light"
          }
        }
      ]
    },
    {
      "cell_type": "markdown",
      "source": [
        "**Langkah 18**"
      ],
      "metadata": {
        "id": "jV08X0-ZcPMn"
      }
    },
    {
      "cell_type": "code",
      "source": [
        "from sklearn.cluster import AgglomerativeClustering\n",
        "\n",
        "cluster = AgglomerativeClustering(n_clusters=6, affinity='euclidean', linkage='single')  \n",
        "cluster.fit_predict(X) \n",
        "print(cluster.labels_)"
      ],
      "metadata": {
        "colab": {
          "base_uri": "https://localhost:8080/"
        },
        "id": "Ab-YVLYbbaGR",
        "outputId": "50b96a25-4bd7-4b5b-ba14-4065fce76e26"
      },
      "execution_count": 36,
      "outputs": [
        {
          "output_type": "stream",
          "name": "stdout",
          "text": [
            "[0 0 0 0 0 0 0 0 0 0 0 0 0 0 0 0 5 0 0 0 0 0 0 0 0 0 0 0 0 0 0 0 0 0 0 0 0\n",
            " 0 0 0 0 0 0 0 0 0 0 0 0 0 0 0 0 0 0 0 0 0 0 0 0 0 0 0 0 0 0 0 0 0 0 0 0 0\n",
            " 0 0 0 0 0 0 0 0 0 0 0 0 0 0 0 0 0 0 0 3 0 0 0 0 0 0 0 0 0 0 2 0 0 0 0 0 0\n",
            " 0 0 0 0 0 0 0 0 0 0 0 0 0 0 0 0 1 0 0 0 0 0 0 0 0 0 1 0 0 0 0 0 0 0 0 0 0\n",
            " 0 0 0 0 0 0 0 1 0 0 0 0 0 1 0 0 0 0 0 0 1 0 0 4 0 0 0 0 1 1 0 0 0 0 0 1 0\n",
            " 0 0]\n"
          ]
        },
        {
          "output_type": "stream",
          "name": "stderr",
          "text": [
            "/usr/local/lib/python3.7/dist-packages/sklearn/utils/validation.py:598: FutureWarning: np.matrix usage is deprecated in 1.0 and will raise a TypeError in 1.2. Please convert to a numpy array with np.asarray. For more information see: https://numpy.org/doc/stable/reference/generated/numpy.matrix.html\n",
            "  FutureWarning,\n"
          ]
        }
      ]
    }
  ]
}